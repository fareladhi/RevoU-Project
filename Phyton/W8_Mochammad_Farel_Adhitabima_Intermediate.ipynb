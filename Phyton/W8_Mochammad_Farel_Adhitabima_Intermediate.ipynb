{
  "nbformat": 4,
  "nbformat_minor": 0,
  "metadata": {
    "colab": {
      "name": "W8_Mochammad Farel Adhitabima_Intermediate.ipynb",
      "provenance": []
    },
    "kernelspec": {
      "name": "python3",
      "display_name": "Python 3"
    },
    "language_info": {
      "name": "python"
    }
  },
  "cells": [
    {
      "cell_type": "code",
      "metadata": {
        "id": "h1UOhgZ8pYOy"
      },
      "source": [
        "import pandas as pd\n",
        "import numpy as np\n",
        "import matplotlib.pyplot as plt\n",
        "import os\n",
        "import re"
      ],
      "execution_count": null,
      "outputs": []
    },
    {
      "cell_type": "markdown",
      "metadata": {
        "id": "8RTt8wImgnxx"
      },
      "source": [
        "# Handling Missing Value"
      ]
    },
    {
      "cell_type": "code",
      "metadata": {
        "colab": {
          "base_uri": "https://localhost:8080/",
          "height": 632
        },
        "id": "JsCHYlxm9-fD",
        "outputId": "f502ecae-3d8b-4378-f538-659efc3d5e4a"
      },
      "source": [
        "df = pd.read_excel('Property Listing In Kuala Lumpur (Size Cleaned).xlsx')\n",
        "df"
      ],
      "execution_count": null,
      "outputs": [
        {
          "output_type": "execute_result",
          "data": {
            "text/html": [
              "<div>\n",
              "<style scoped>\n",
              "    .dataframe tbody tr th:only-of-type {\n",
              "        vertical-align: middle;\n",
              "    }\n",
              "\n",
              "    .dataframe tbody tr th {\n",
              "        vertical-align: top;\n",
              "    }\n",
              "\n",
              "    .dataframe thead th {\n",
              "        text-align: right;\n",
              "    }\n",
              "</style>\n",
              "<table border=\"1\" class=\"dataframe\">\n",
              "  <thead>\n",
              "    <tr style=\"text-align: right;\">\n",
              "      <th></th>\n",
              "      <th>Location</th>\n",
              "      <th>Price</th>\n",
              "      <th>Rooms</th>\n",
              "      <th>Bathrooms</th>\n",
              "      <th>Car Parks</th>\n",
              "      <th>Property Type</th>\n",
              "      <th>Size_Type</th>\n",
              "      <th>Size</th>\n",
              "      <th>Furnishing</th>\n",
              "    </tr>\n",
              "  </thead>\n",
              "  <tbody>\n",
              "    <tr>\n",
              "      <th>0</th>\n",
              "      <td>KLCC, Kuala Lumpur</td>\n",
              "      <td>RM 1,250,000</td>\n",
              "      <td>2+1</td>\n",
              "      <td>3.0</td>\n",
              "      <td>2.0</td>\n",
              "      <td>Serviced Residence</td>\n",
              "      <td>Built-up</td>\n",
              "      <td>1335.0</td>\n",
              "      <td>Fully Furnished</td>\n",
              "    </tr>\n",
              "    <tr>\n",
              "      <th>1</th>\n",
              "      <td>Damansara Heights, Kuala Lumpur</td>\n",
              "      <td>RM 6,800,000</td>\n",
              "      <td>6</td>\n",
              "      <td>7.0</td>\n",
              "      <td>NaN</td>\n",
              "      <td>Bungalow</td>\n",
              "      <td>Land area</td>\n",
              "      <td>6900.0</td>\n",
              "      <td>Partly Furnished</td>\n",
              "    </tr>\n",
              "    <tr>\n",
              "      <th>2</th>\n",
              "      <td>Dutamas, Kuala Lumpur</td>\n",
              "      <td>RM 1,030,000</td>\n",
              "      <td>3</td>\n",
              "      <td>4.0</td>\n",
              "      <td>2.0</td>\n",
              "      <td>Condominium (Corner)</td>\n",
              "      <td>Built-up</td>\n",
              "      <td>1875.0</td>\n",
              "      <td>Partly Furnished</td>\n",
              "    </tr>\n",
              "    <tr>\n",
              "      <th>3</th>\n",
              "      <td>Cheras, Kuala Lumpur</td>\n",
              "      <td>NaN</td>\n",
              "      <td>NaN</td>\n",
              "      <td>NaN</td>\n",
              "      <td>NaN</td>\n",
              "      <td>NaN</td>\n",
              "      <td>NaN</td>\n",
              "      <td>NaN</td>\n",
              "      <td>NaN</td>\n",
              "    </tr>\n",
              "    <tr>\n",
              "      <th>4</th>\n",
              "      <td>Bukit Jalil, Kuala Lumpur</td>\n",
              "      <td>RM 900,000</td>\n",
              "      <td>4+1</td>\n",
              "      <td>3.0</td>\n",
              "      <td>2.0</td>\n",
              "      <td>Condominium (Corner)</td>\n",
              "      <td>Built-up</td>\n",
              "      <td>1513.0</td>\n",
              "      <td>Partly Furnished</td>\n",
              "    </tr>\n",
              "    <tr>\n",
              "      <th>...</th>\n",
              "      <td>...</td>\n",
              "      <td>...</td>\n",
              "      <td>...</td>\n",
              "      <td>...</td>\n",
              "      <td>...</td>\n",
              "      <td>...</td>\n",
              "      <td>...</td>\n",
              "      <td>...</td>\n",
              "      <td>...</td>\n",
              "    </tr>\n",
              "    <tr>\n",
              "      <th>53878</th>\n",
              "      <td>Bangsar, Kuala Lumpur</td>\n",
              "      <td>RM 5,100,000</td>\n",
              "      <td>5+1</td>\n",
              "      <td>4.0</td>\n",
              "      <td>NaN</td>\n",
              "      <td>Bungalow (Corner)</td>\n",
              "      <td>Land area</td>\n",
              "      <td>7168.0</td>\n",
              "      <td>Fully Furnished</td>\n",
              "    </tr>\n",
              "    <tr>\n",
              "      <th>53879</th>\n",
              "      <td>Bangsar, Kuala Lumpur</td>\n",
              "      <td>RM 5,000,000</td>\n",
              "      <td>5</td>\n",
              "      <td>4.0</td>\n",
              "      <td>NaN</td>\n",
              "      <td>Bungalow (Intermediate)</td>\n",
              "      <td>Land area</td>\n",
              "      <td>15000.0</td>\n",
              "      <td>Unfurnished</td>\n",
              "    </tr>\n",
              "    <tr>\n",
              "      <th>53880</th>\n",
              "      <td>Bangsar, Kuala Lumpur</td>\n",
              "      <td>RM 5,500,000</td>\n",
              "      <td>5+1</td>\n",
              "      <td>4.0</td>\n",
              "      <td>NaN</td>\n",
              "      <td>Bungalow (Intermediate)</td>\n",
              "      <td>Land area</td>\n",
              "      <td>7168.0</td>\n",
              "      <td>Partly Furnished</td>\n",
              "    </tr>\n",
              "    <tr>\n",
              "      <th>53881</th>\n",
              "      <td>Wangsa Maju, Kuala Lumpur</td>\n",
              "      <td>RM 480,000</td>\n",
              "      <td>3</td>\n",
              "      <td>2.0</td>\n",
              "      <td>NaN</td>\n",
              "      <td>Condominium (Intermediate)</td>\n",
              "      <td>Built-up</td>\n",
              "      <td>1150.0</td>\n",
              "      <td>Unfurnished</td>\n",
              "    </tr>\n",
              "    <tr>\n",
              "      <th>53882</th>\n",
              "      <td>Setapak, Kuala Lumpur</td>\n",
              "      <td>RM 540,000</td>\n",
              "      <td>4</td>\n",
              "      <td>2.0</td>\n",
              "      <td>3.0</td>\n",
              "      <td>Condominium (Intermediate)</td>\n",
              "      <td>Built-up</td>\n",
              "      <td>1313.0</td>\n",
              "      <td>Partly Furnished</td>\n",
              "    </tr>\n",
              "  </tbody>\n",
              "</table>\n",
              "<p>53883 rows × 9 columns</p>\n",
              "</div>"
            ],
            "text/plain": [
              "                              Location         Price  ...     Size        Furnishing\n",
              "0                   KLCC, Kuala Lumpur  RM 1,250,000  ...   1335.0   Fully Furnished\n",
              "1      Damansara Heights, Kuala Lumpur  RM 6,800,000  ...   6900.0  Partly Furnished\n",
              "2                Dutamas, Kuala Lumpur  RM 1,030,000  ...   1875.0  Partly Furnished\n",
              "3                 Cheras, Kuala Lumpur           NaN  ...      NaN               NaN\n",
              "4            Bukit Jalil, Kuala Lumpur    RM 900,000  ...   1513.0  Partly Furnished\n",
              "...                                ...           ...  ...      ...               ...\n",
              "53878            Bangsar, Kuala Lumpur  RM 5,100,000  ...   7168.0   Fully Furnished\n",
              "53879            Bangsar, Kuala Lumpur  RM 5,000,000  ...  15000.0       Unfurnished\n",
              "53880            Bangsar, Kuala Lumpur  RM 5,500,000  ...   7168.0  Partly Furnished\n",
              "53881        Wangsa Maju, Kuala Lumpur    RM 480,000  ...   1150.0       Unfurnished\n",
              "53882            Setapak, Kuala Lumpur    RM 540,000  ...   1313.0  Partly Furnished\n",
              "\n",
              "[53883 rows x 9 columns]"
            ]
          },
          "metadata": {},
          "execution_count": 2
        }
      ]
    },
    {
      "cell_type": "code",
      "metadata": {
        "colab": {
          "base_uri": "https://localhost:8080/"
        },
        "id": "HZ1fAcBUAwip",
        "outputId": "73202b25-c985-4a27-8d46-bd625d4347a2"
      },
      "source": [
        "df.info()"
      ],
      "execution_count": null,
      "outputs": [
        {
          "output_type": "stream",
          "name": "stdout",
          "text": [
            "<class 'pandas.core.frame.DataFrame'>\n",
            "RangeIndex: 53883 entries, 0 to 53882\n",
            "Data columns (total 9 columns):\n",
            " #   Column         Non-Null Count  Dtype  \n",
            "---  ------         --------------  -----  \n",
            " 0   Location       53883 non-null  object \n",
            " 1   Price          53635 non-null  object \n",
            " 2   Rooms          52177 non-null  object \n",
            " 3   Bathrooms      51870 non-null  float64\n",
            " 4   Car Parks      36316 non-null  float64\n",
            " 5   Property Type  53858 non-null  object \n",
            " 6   Size_Type      52820 non-null  object \n",
            " 7   Size           52646 non-null  float64\n",
            " 8   Furnishing     46953 non-null  object \n",
            "dtypes: float64(3), object(6)\n",
            "memory usage: 3.7+ MB\n"
          ]
        }
      ]
    },
    {
      "cell_type": "code",
      "metadata": {
        "colab": {
          "base_uri": "https://localhost:8080/"
        },
        "id": "Ho4Cas26A0Tg",
        "outputId": "d097c4a7-2bc9-40f1-ea43-fdd69294923a"
      },
      "source": [
        "df.isna().sum()"
      ],
      "execution_count": null,
      "outputs": [
        {
          "output_type": "execute_result",
          "data": {
            "text/plain": [
              "Location             0\n",
              "Price              248\n",
              "Rooms             1706\n",
              "Bathrooms         2013\n",
              "Car Parks        17567\n",
              "Property Type       25\n",
              "Size_Type         1063\n",
              "Size              1237\n",
              "Furnishing        6930\n",
              "dtype: int64"
            ]
          },
          "metadata": {},
          "execution_count": 4
        }
      ]
    },
    {
      "cell_type": "code",
      "metadata": {
        "colab": {
          "base_uri": "https://localhost:8080/",
          "height": 623
        },
        "id": "9FGZWdwBhMsT",
        "outputId": "5b98bb3e-e810-47dc-ef4a-bfe3e3d3cf2e"
      },
      "source": [
        "df[df.isnull().any(axis=1)]\n",
        "df.head(10)"
      ],
      "execution_count": null,
      "outputs": [
        {
          "output_type": "execute_result",
          "data": {
            "text/html": [
              "<div>\n",
              "<style scoped>\n",
              "    .dataframe tbody tr th:only-of-type {\n",
              "        vertical-align: middle;\n",
              "    }\n",
              "\n",
              "    .dataframe tbody tr th {\n",
              "        vertical-align: top;\n",
              "    }\n",
              "\n",
              "    .dataframe thead th {\n",
              "        text-align: right;\n",
              "    }\n",
              "</style>\n",
              "<table border=\"1\" class=\"dataframe\">\n",
              "  <thead>\n",
              "    <tr style=\"text-align: right;\">\n",
              "      <th></th>\n",
              "      <th>Location</th>\n",
              "      <th>Price</th>\n",
              "      <th>Rooms</th>\n",
              "      <th>Bathrooms</th>\n",
              "      <th>Car Parks</th>\n",
              "      <th>Property Type</th>\n",
              "      <th>Size_Type</th>\n",
              "      <th>Size</th>\n",
              "      <th>Furnishing</th>\n",
              "    </tr>\n",
              "  </thead>\n",
              "  <tbody>\n",
              "    <tr>\n",
              "      <th>0</th>\n",
              "      <td>KLCC, Kuala Lumpur</td>\n",
              "      <td>RM 1,250,000</td>\n",
              "      <td>2+1</td>\n",
              "      <td>3.0</td>\n",
              "      <td>2.0</td>\n",
              "      <td>Serviced Residence</td>\n",
              "      <td>Built-up</td>\n",
              "      <td>1335.0</td>\n",
              "      <td>Fully Furnished</td>\n",
              "    </tr>\n",
              "    <tr>\n",
              "      <th>1</th>\n",
              "      <td>Damansara Heights, Kuala Lumpur</td>\n",
              "      <td>RM 6,800,000</td>\n",
              "      <td>6</td>\n",
              "      <td>7.0</td>\n",
              "      <td>NaN</td>\n",
              "      <td>Bungalow</td>\n",
              "      <td>Land area</td>\n",
              "      <td>6900.0</td>\n",
              "      <td>Partly Furnished</td>\n",
              "    </tr>\n",
              "    <tr>\n",
              "      <th>2</th>\n",
              "      <td>Dutamas, Kuala Lumpur</td>\n",
              "      <td>RM 1,030,000</td>\n",
              "      <td>3</td>\n",
              "      <td>4.0</td>\n",
              "      <td>2.0</td>\n",
              "      <td>Condominium (Corner)</td>\n",
              "      <td>Built-up</td>\n",
              "      <td>1875.0</td>\n",
              "      <td>Partly Furnished</td>\n",
              "    </tr>\n",
              "    <tr>\n",
              "      <th>3</th>\n",
              "      <td>Cheras, Kuala Lumpur</td>\n",
              "      <td>NaN</td>\n",
              "      <td>NaN</td>\n",
              "      <td>NaN</td>\n",
              "      <td>NaN</td>\n",
              "      <td>NaN</td>\n",
              "      <td>NaN</td>\n",
              "      <td>NaN</td>\n",
              "      <td>NaN</td>\n",
              "    </tr>\n",
              "    <tr>\n",
              "      <th>4</th>\n",
              "      <td>Bukit Jalil, Kuala Lumpur</td>\n",
              "      <td>RM 900,000</td>\n",
              "      <td>4+1</td>\n",
              "      <td>3.0</td>\n",
              "      <td>2.0</td>\n",
              "      <td>Condominium (Corner)</td>\n",
              "      <td>Built-up</td>\n",
              "      <td>1513.0</td>\n",
              "      <td>Partly Furnished</td>\n",
              "    </tr>\n",
              "    <tr>\n",
              "      <th>5</th>\n",
              "      <td>Taman Tun Dr Ismail, Kuala Lumpur</td>\n",
              "      <td>RM 5,350,000</td>\n",
              "      <td>4+2</td>\n",
              "      <td>5.0</td>\n",
              "      <td>4.0</td>\n",
              "      <td>Bungalow</td>\n",
              "      <td>Land area</td>\n",
              "      <td>7200.0</td>\n",
              "      <td>Partly Furnished</td>\n",
              "    </tr>\n",
              "    <tr>\n",
              "      <th>6</th>\n",
              "      <td>Seputeh, Kuala Lumpur</td>\n",
              "      <td>NaN</td>\n",
              "      <td>NaN</td>\n",
              "      <td>NaN</td>\n",
              "      <td>NaN</td>\n",
              "      <td>NaN</td>\n",
              "      <td>NaN</td>\n",
              "      <td>NaN</td>\n",
              "      <td>NaN</td>\n",
              "    </tr>\n",
              "    <tr>\n",
              "      <th>7</th>\n",
              "      <td>Taman Tun Dr Ismail, Kuala Lumpur</td>\n",
              "      <td>RM 2,600,000</td>\n",
              "      <td>5</td>\n",
              "      <td>4.0</td>\n",
              "      <td>4.0</td>\n",
              "      <td>Semi-detached House</td>\n",
              "      <td>Land area</td>\n",
              "      <td>3600.0</td>\n",
              "      <td>Partly Furnished</td>\n",
              "    </tr>\n",
              "    <tr>\n",
              "      <th>8</th>\n",
              "      <td>Taman Tun Dr Ismail, Kuala Lumpur</td>\n",
              "      <td>RM 1,950,000</td>\n",
              "      <td>4+1</td>\n",
              "      <td>4.0</td>\n",
              "      <td>3.0</td>\n",
              "      <td>2-sty Terrace/Link House (EndLot)</td>\n",
              "      <td>Land area</td>\n",
              "      <td>1875.0</td>\n",
              "      <td>Partly Furnished</td>\n",
              "    </tr>\n",
              "    <tr>\n",
              "      <th>9</th>\n",
              "      <td>Sri Petaling, Kuala Lumpur</td>\n",
              "      <td>RM 385,000</td>\n",
              "      <td>3</td>\n",
              "      <td>2.0</td>\n",
              "      <td>1.0</td>\n",
              "      <td>Apartment (Intermediate)</td>\n",
              "      <td>Built-up</td>\n",
              "      <td>904.0</td>\n",
              "      <td>Partly Furnished</td>\n",
              "    </tr>\n",
              "  </tbody>\n",
              "</table>\n",
              "</div>"
            ],
            "text/plain": [
              "                            Location         Price  ...    Size        Furnishing\n",
              "0                 KLCC, Kuala Lumpur  RM 1,250,000  ...  1335.0   Fully Furnished\n",
              "1    Damansara Heights, Kuala Lumpur  RM 6,800,000  ...  6900.0  Partly Furnished\n",
              "2              Dutamas, Kuala Lumpur  RM 1,030,000  ...  1875.0  Partly Furnished\n",
              "3               Cheras, Kuala Lumpur           NaN  ...     NaN               NaN\n",
              "4          Bukit Jalil, Kuala Lumpur    RM 900,000  ...  1513.0  Partly Furnished\n",
              "5  Taman Tun Dr Ismail, Kuala Lumpur  RM 5,350,000  ...  7200.0  Partly Furnished\n",
              "6              Seputeh, Kuala Lumpur           NaN  ...     NaN               NaN\n",
              "7  Taman Tun Dr Ismail, Kuala Lumpur  RM 2,600,000  ...  3600.0  Partly Furnished\n",
              "8  Taman Tun Dr Ismail, Kuala Lumpur  RM 1,950,000  ...  1875.0  Partly Furnished\n",
              "9         Sri Petaling, Kuala Lumpur    RM 385,000  ...   904.0  Partly Furnished\n",
              "\n",
              "[10 rows x 9 columns]"
            ]
          },
          "metadata": {},
          "execution_count": 5
        }
      ]
    },
    {
      "cell_type": "code",
      "metadata": {
        "colab": {
          "base_uri": "https://localhost:8080/",
          "height": 310
        },
        "id": "wYQI_4bYm2Lm",
        "outputId": "71cfe14e-4c59-4ae1-c01c-f2362f96e551"
      },
      "source": [
        "# fill car parks coloumn with 0 value, because there is property that don't have a car parks\n",
        "df['Car Parks'] = df['Car Parks'].fillna('0')\n",
        "df.head()"
      ],
      "execution_count": null,
      "outputs": [
        {
          "output_type": "execute_result",
          "data": {
            "text/html": [
              "<div>\n",
              "<style scoped>\n",
              "    .dataframe tbody tr th:only-of-type {\n",
              "        vertical-align: middle;\n",
              "    }\n",
              "\n",
              "    .dataframe tbody tr th {\n",
              "        vertical-align: top;\n",
              "    }\n",
              "\n",
              "    .dataframe thead th {\n",
              "        text-align: right;\n",
              "    }\n",
              "</style>\n",
              "<table border=\"1\" class=\"dataframe\">\n",
              "  <thead>\n",
              "    <tr style=\"text-align: right;\">\n",
              "      <th></th>\n",
              "      <th>Location</th>\n",
              "      <th>Price</th>\n",
              "      <th>Rooms</th>\n",
              "      <th>Bathrooms</th>\n",
              "      <th>Car Parks</th>\n",
              "      <th>Property Type</th>\n",
              "      <th>Size_Type</th>\n",
              "      <th>Size</th>\n",
              "      <th>Furnishing</th>\n",
              "    </tr>\n",
              "  </thead>\n",
              "  <tbody>\n",
              "    <tr>\n",
              "      <th>0</th>\n",
              "      <td>KLCC, Kuala Lumpur</td>\n",
              "      <td>RM 1,250,000</td>\n",
              "      <td>2+1</td>\n",
              "      <td>3.0</td>\n",
              "      <td>2</td>\n",
              "      <td>Serviced Residence</td>\n",
              "      <td>Built-up</td>\n",
              "      <td>1335.0</td>\n",
              "      <td>Fully Furnished</td>\n",
              "    </tr>\n",
              "    <tr>\n",
              "      <th>1</th>\n",
              "      <td>Damansara Heights, Kuala Lumpur</td>\n",
              "      <td>RM 6,800,000</td>\n",
              "      <td>6</td>\n",
              "      <td>7.0</td>\n",
              "      <td>0</td>\n",
              "      <td>Bungalow</td>\n",
              "      <td>Land area</td>\n",
              "      <td>6900.0</td>\n",
              "      <td>Partly Furnished</td>\n",
              "    </tr>\n",
              "    <tr>\n",
              "      <th>2</th>\n",
              "      <td>Dutamas, Kuala Lumpur</td>\n",
              "      <td>RM 1,030,000</td>\n",
              "      <td>3</td>\n",
              "      <td>4.0</td>\n",
              "      <td>2</td>\n",
              "      <td>Condominium (Corner)</td>\n",
              "      <td>Built-up</td>\n",
              "      <td>1875.0</td>\n",
              "      <td>Partly Furnished</td>\n",
              "    </tr>\n",
              "    <tr>\n",
              "      <th>3</th>\n",
              "      <td>Cheras, Kuala Lumpur</td>\n",
              "      <td>NaN</td>\n",
              "      <td>NaN</td>\n",
              "      <td>NaN</td>\n",
              "      <td>0</td>\n",
              "      <td>NaN</td>\n",
              "      <td>NaN</td>\n",
              "      <td>NaN</td>\n",
              "      <td>NaN</td>\n",
              "    </tr>\n",
              "    <tr>\n",
              "      <th>4</th>\n",
              "      <td>Bukit Jalil, Kuala Lumpur</td>\n",
              "      <td>RM 900,000</td>\n",
              "      <td>4+1</td>\n",
              "      <td>3.0</td>\n",
              "      <td>2</td>\n",
              "      <td>Condominium (Corner)</td>\n",
              "      <td>Built-up</td>\n",
              "      <td>1513.0</td>\n",
              "      <td>Partly Furnished</td>\n",
              "    </tr>\n",
              "  </tbody>\n",
              "</table>\n",
              "</div>"
            ],
            "text/plain": [
              "                          Location         Price  ...    Size        Furnishing\n",
              "0               KLCC, Kuala Lumpur  RM 1,250,000  ...  1335.0   Fully Furnished\n",
              "1  Damansara Heights, Kuala Lumpur  RM 6,800,000  ...  6900.0  Partly Furnished\n",
              "2            Dutamas, Kuala Lumpur  RM 1,030,000  ...  1875.0  Partly Furnished\n",
              "3             Cheras, Kuala Lumpur           NaN  ...     NaN               NaN\n",
              "4        Bukit Jalil, Kuala Lumpur    RM 900,000  ...  1513.0  Partly Furnished\n",
              "\n",
              "[5 rows x 9 columns]"
            ]
          },
          "metadata": {},
          "execution_count": 6
        }
      ]
    },
    {
      "cell_type": "code",
      "metadata": {
        "colab": {
          "base_uri": "https://localhost:8080/"
        },
        "id": "JnbmhDSenFNt",
        "outputId": "4744780b-1672-42d2-da2e-4cbb213122aa"
      },
      "source": [
        "df.isna().sum()"
      ],
      "execution_count": null,
      "outputs": [
        {
          "output_type": "execute_result",
          "data": {
            "text/plain": [
              "Location            0\n",
              "Price             248\n",
              "Rooms            1706\n",
              "Bathrooms        2013\n",
              "Car Parks           0\n",
              "Property Type      25\n",
              "Size_Type        1063\n",
              "Size             1237\n",
              "Furnishing       6930\n",
              "dtype: int64"
            ]
          },
          "metadata": {},
          "execution_count": 7
        }
      ]
    },
    {
      "cell_type": "code",
      "metadata": {
        "colab": {
          "base_uri": "https://localhost:8080/"
        },
        "id": "FvHyOYtC_1ku",
        "outputId": "b8a864f0-97ec-4e3c-c8a7-8149e10fbfd1"
      },
      "source": [
        "# 0.46% of Price are null values\n",
        "(df['Price'].isnull().sum() / df.shape[0]) * 100"
      ],
      "execution_count": null,
      "outputs": [
        {
          "output_type": "execute_result",
          "data": {
            "text/plain": [
              "0.4602564816361375"
            ]
          },
          "metadata": {},
          "execution_count": 8
        }
      ]
    },
    {
      "cell_type": "code",
      "metadata": {
        "colab": {
          "base_uri": "https://localhost:8080/",
          "height": 310
        },
        "id": "lIkneHdzBU_I",
        "outputId": "3562817b-e07c-49c9-ac4b-9bc477900fe9"
      },
      "source": [
        "# The rows with null values in Price columns are safe to remove it's only 0.46% of the total rows\n",
        "df = df.dropna(subset=['Price'])\n",
        "df.head()"
      ],
      "execution_count": null,
      "outputs": [
        {
          "output_type": "execute_result",
          "data": {
            "text/html": [
              "<div>\n",
              "<style scoped>\n",
              "    .dataframe tbody tr th:only-of-type {\n",
              "        vertical-align: middle;\n",
              "    }\n",
              "\n",
              "    .dataframe tbody tr th {\n",
              "        vertical-align: top;\n",
              "    }\n",
              "\n",
              "    .dataframe thead th {\n",
              "        text-align: right;\n",
              "    }\n",
              "</style>\n",
              "<table border=\"1\" class=\"dataframe\">\n",
              "  <thead>\n",
              "    <tr style=\"text-align: right;\">\n",
              "      <th></th>\n",
              "      <th>Location</th>\n",
              "      <th>Price</th>\n",
              "      <th>Rooms</th>\n",
              "      <th>Bathrooms</th>\n",
              "      <th>Car Parks</th>\n",
              "      <th>Property Type</th>\n",
              "      <th>Size_Type</th>\n",
              "      <th>Size</th>\n",
              "      <th>Furnishing</th>\n",
              "    </tr>\n",
              "  </thead>\n",
              "  <tbody>\n",
              "    <tr>\n",
              "      <th>0</th>\n",
              "      <td>KLCC, Kuala Lumpur</td>\n",
              "      <td>RM 1,250,000</td>\n",
              "      <td>2+1</td>\n",
              "      <td>3.0</td>\n",
              "      <td>2</td>\n",
              "      <td>Serviced Residence</td>\n",
              "      <td>Built-up</td>\n",
              "      <td>1335.0</td>\n",
              "      <td>Fully Furnished</td>\n",
              "    </tr>\n",
              "    <tr>\n",
              "      <th>1</th>\n",
              "      <td>Damansara Heights, Kuala Lumpur</td>\n",
              "      <td>RM 6,800,000</td>\n",
              "      <td>6</td>\n",
              "      <td>7.0</td>\n",
              "      <td>0</td>\n",
              "      <td>Bungalow</td>\n",
              "      <td>Land area</td>\n",
              "      <td>6900.0</td>\n",
              "      <td>Partly Furnished</td>\n",
              "    </tr>\n",
              "    <tr>\n",
              "      <th>2</th>\n",
              "      <td>Dutamas, Kuala Lumpur</td>\n",
              "      <td>RM 1,030,000</td>\n",
              "      <td>3</td>\n",
              "      <td>4.0</td>\n",
              "      <td>2</td>\n",
              "      <td>Condominium (Corner)</td>\n",
              "      <td>Built-up</td>\n",
              "      <td>1875.0</td>\n",
              "      <td>Partly Furnished</td>\n",
              "    </tr>\n",
              "    <tr>\n",
              "      <th>4</th>\n",
              "      <td>Bukit Jalil, Kuala Lumpur</td>\n",
              "      <td>RM 900,000</td>\n",
              "      <td>4+1</td>\n",
              "      <td>3.0</td>\n",
              "      <td>2</td>\n",
              "      <td>Condominium (Corner)</td>\n",
              "      <td>Built-up</td>\n",
              "      <td>1513.0</td>\n",
              "      <td>Partly Furnished</td>\n",
              "    </tr>\n",
              "    <tr>\n",
              "      <th>5</th>\n",
              "      <td>Taman Tun Dr Ismail, Kuala Lumpur</td>\n",
              "      <td>RM 5,350,000</td>\n",
              "      <td>4+2</td>\n",
              "      <td>5.0</td>\n",
              "      <td>4</td>\n",
              "      <td>Bungalow</td>\n",
              "      <td>Land area</td>\n",
              "      <td>7200.0</td>\n",
              "      <td>Partly Furnished</td>\n",
              "    </tr>\n",
              "  </tbody>\n",
              "</table>\n",
              "</div>"
            ],
            "text/plain": [
              "                            Location         Price  ...    Size        Furnishing\n",
              "0                 KLCC, Kuala Lumpur  RM 1,250,000  ...  1335.0   Fully Furnished\n",
              "1    Damansara Heights, Kuala Lumpur  RM 6,800,000  ...  6900.0  Partly Furnished\n",
              "2              Dutamas, Kuala Lumpur  RM 1,030,000  ...  1875.0  Partly Furnished\n",
              "4          Bukit Jalil, Kuala Lumpur    RM 900,000  ...  1513.0  Partly Furnished\n",
              "5  Taman Tun Dr Ismail, Kuala Lumpur  RM 5,350,000  ...  7200.0  Partly Furnished\n",
              "\n",
              "[5 rows x 9 columns]"
            ]
          },
          "metadata": {},
          "execution_count": 9
        }
      ]
    },
    {
      "cell_type": "code",
      "metadata": {
        "colab": {
          "base_uri": "https://localhost:8080/"
        },
        "id": "Sx0Wdq6xCClG",
        "outputId": "7234e420-2a40-4a1c-ea92-45742ff504b3"
      },
      "source": [
        "df.isna().sum()"
      ],
      "execution_count": null,
      "outputs": [
        {
          "output_type": "execute_result",
          "data": {
            "text/plain": [
              "Location            0\n",
              "Price               0\n",
              "Rooms            1655\n",
              "Bathrooms        1962\n",
              "Car Parks           0\n",
              "Property Type       0\n",
              "Size_Type        1024\n",
              "Size             1197\n",
              "Furnishing       6856\n",
              "dtype: int64"
            ]
          },
          "metadata": {},
          "execution_count": 10
        }
      ]
    },
    {
      "cell_type": "code",
      "metadata": {
        "colab": {
          "base_uri": "https://localhost:8080/",
          "height": 310
        },
        "id": "JAJ4ktmaDCE0",
        "outputId": "1dd9fe7e-85f1-453f-dc4b-214b22e6790f"
      },
      "source": [
        "# The rows with null values in Rooms columns are safe to remove it's only 3.16% of the total rows\n",
        "df = df.dropna(subset=['Rooms'])\n",
        "df.head()"
      ],
      "execution_count": null,
      "outputs": [
        {
          "output_type": "execute_result",
          "data": {
            "text/html": [
              "<div>\n",
              "<style scoped>\n",
              "    .dataframe tbody tr th:only-of-type {\n",
              "        vertical-align: middle;\n",
              "    }\n",
              "\n",
              "    .dataframe tbody tr th {\n",
              "        vertical-align: top;\n",
              "    }\n",
              "\n",
              "    .dataframe thead th {\n",
              "        text-align: right;\n",
              "    }\n",
              "</style>\n",
              "<table border=\"1\" class=\"dataframe\">\n",
              "  <thead>\n",
              "    <tr style=\"text-align: right;\">\n",
              "      <th></th>\n",
              "      <th>Location</th>\n",
              "      <th>Price</th>\n",
              "      <th>Rooms</th>\n",
              "      <th>Bathrooms</th>\n",
              "      <th>Car Parks</th>\n",
              "      <th>Property Type</th>\n",
              "      <th>Size_Type</th>\n",
              "      <th>Size</th>\n",
              "      <th>Furnishing</th>\n",
              "    </tr>\n",
              "  </thead>\n",
              "  <tbody>\n",
              "    <tr>\n",
              "      <th>0</th>\n",
              "      <td>KLCC, Kuala Lumpur</td>\n",
              "      <td>RM 1,250,000</td>\n",
              "      <td>2+1</td>\n",
              "      <td>3.0</td>\n",
              "      <td>2</td>\n",
              "      <td>Serviced Residence</td>\n",
              "      <td>Built-up</td>\n",
              "      <td>1335.0</td>\n",
              "      <td>Fully Furnished</td>\n",
              "    </tr>\n",
              "    <tr>\n",
              "      <th>1</th>\n",
              "      <td>Damansara Heights, Kuala Lumpur</td>\n",
              "      <td>RM 6,800,000</td>\n",
              "      <td>6</td>\n",
              "      <td>7.0</td>\n",
              "      <td>0</td>\n",
              "      <td>Bungalow</td>\n",
              "      <td>Land area</td>\n",
              "      <td>6900.0</td>\n",
              "      <td>Partly Furnished</td>\n",
              "    </tr>\n",
              "    <tr>\n",
              "      <th>2</th>\n",
              "      <td>Dutamas, Kuala Lumpur</td>\n",
              "      <td>RM 1,030,000</td>\n",
              "      <td>3</td>\n",
              "      <td>4.0</td>\n",
              "      <td>2</td>\n",
              "      <td>Condominium (Corner)</td>\n",
              "      <td>Built-up</td>\n",
              "      <td>1875.0</td>\n",
              "      <td>Partly Furnished</td>\n",
              "    </tr>\n",
              "    <tr>\n",
              "      <th>4</th>\n",
              "      <td>Bukit Jalil, Kuala Lumpur</td>\n",
              "      <td>RM 900,000</td>\n",
              "      <td>4+1</td>\n",
              "      <td>3.0</td>\n",
              "      <td>2</td>\n",
              "      <td>Condominium (Corner)</td>\n",
              "      <td>Built-up</td>\n",
              "      <td>1513.0</td>\n",
              "      <td>Partly Furnished</td>\n",
              "    </tr>\n",
              "    <tr>\n",
              "      <th>5</th>\n",
              "      <td>Taman Tun Dr Ismail, Kuala Lumpur</td>\n",
              "      <td>RM 5,350,000</td>\n",
              "      <td>4+2</td>\n",
              "      <td>5.0</td>\n",
              "      <td>4</td>\n",
              "      <td>Bungalow</td>\n",
              "      <td>Land area</td>\n",
              "      <td>7200.0</td>\n",
              "      <td>Partly Furnished</td>\n",
              "    </tr>\n",
              "  </tbody>\n",
              "</table>\n",
              "</div>"
            ],
            "text/plain": [
              "                            Location         Price  ...    Size        Furnishing\n",
              "0                 KLCC, Kuala Lumpur  RM 1,250,000  ...  1335.0   Fully Furnished\n",
              "1    Damansara Heights, Kuala Lumpur  RM 6,800,000  ...  6900.0  Partly Furnished\n",
              "2              Dutamas, Kuala Lumpur  RM 1,030,000  ...  1875.0  Partly Furnished\n",
              "4          Bukit Jalil, Kuala Lumpur    RM 900,000  ...  1513.0  Partly Furnished\n",
              "5  Taman Tun Dr Ismail, Kuala Lumpur  RM 5,350,000  ...  7200.0  Partly Furnished\n",
              "\n",
              "[5 rows x 9 columns]"
            ]
          },
          "metadata": {},
          "execution_count": 11
        }
      ]
    },
    {
      "cell_type": "code",
      "metadata": {
        "colab": {
          "base_uri": "https://localhost:8080/"
        },
        "id": "2M0z5zjOPFRt",
        "outputId": "82fa5ed6-c7ce-4e65-b82c-fcabdc722c63"
      },
      "source": [
        "sorted(df[\"Rooms\"].unique().astype(str))"
      ],
      "execution_count": null,
      "outputs": [
        {
          "output_type": "execute_result",
          "data": {
            "text/plain": [
              "['1',\n",
              " '1+1',\n",
              " '1+2',\n",
              " '10',\n",
              " '10+',\n",
              " '10+1',\n",
              " '11',\n",
              " '11+1',\n",
              " '12',\n",
              " '12+',\n",
              " '13',\n",
              " '13+',\n",
              " '13+1',\n",
              " '14',\n",
              " '15+',\n",
              " '16',\n",
              " '18',\n",
              " '2',\n",
              " '2+1',\n",
              " '2+2',\n",
              " '20 Above',\n",
              " '3',\n",
              " '3+1',\n",
              " '3+2',\n",
              " '4',\n",
              " '4+1',\n",
              " '4+2',\n",
              " '5',\n",
              " '5+1',\n",
              " '5+2',\n",
              " '6',\n",
              " '6+',\n",
              " '6+1',\n",
              " '7',\n",
              " '7+',\n",
              " '7+1',\n",
              " '8',\n",
              " '8+',\n",
              " '8+1',\n",
              " '9',\n",
              " '9+',\n",
              " '9+1',\n",
              " 'Studio']"
            ]
          },
          "metadata": {},
          "execution_count": 12
        }
      ]
    },
    {
      "cell_type": "code",
      "metadata": {
        "id": "zzFhS-aJOEEi",
        "colab": {
          "base_uri": "https://localhost:8080/"
        },
        "outputId": "05ee65aa-7a72-497a-fa5e-d81a64f522cc"
      },
      "source": [
        "def convert_room_num(Rooms):\n",
        "    try:\n",
        "        if Rooms.endswith(\"+\"):\n",
        "            return int(Rooms[:-1])\n",
        "        if re.search(\"[0-9]+\\+[0-9]+\", Rooms) is not None:\n",
        "            tmp = Rooms.split(\"+\")\n",
        "            return int(tmp[0]) + int(tmp[1])\n",
        "        if Rooms == \"20 Above\":\n",
        "            return 20\n",
        "        if Rooms == \"Studio\":\n",
        "            return 1\n",
        "        return int(Rooms)\n",
        "    except AttributeError:\n",
        "        return Rooms\n",
        "\n",
        "df[\"Rooms_Num\"] = df[\"Rooms\"].apply(convert_room_num)\n"
      ],
      "execution_count": null,
      "outputs": [
        {
          "output_type": "stream",
          "name": "stderr",
          "text": [
            "/usr/local/lib/python3.7/dist-packages/ipykernel_launcher.py:16: SettingWithCopyWarning: \n",
            "A value is trying to be set on a copy of a slice from a DataFrame.\n",
            "Try using .loc[row_indexer,col_indexer] = value instead\n",
            "\n",
            "See the caveats in the documentation: https://pandas.pydata.org/pandas-docs/stable/user_guide/indexing.html#returning-a-view-versus-a-copy\n",
            "  app.launch_new_instance()\n"
          ]
        }
      ]
    },
    {
      "cell_type": "code",
      "metadata": {
        "colab": {
          "base_uri": "https://localhost:8080/"
        },
        "id": "zK7Azu0jPWyo",
        "outputId": "02cb0da6-ed33-4945-bd63-b80e9976258e"
      },
      "source": [
        "df[\"Rooms_Num\"].value_counts(dropna=False)"
      ],
      "execution_count": null,
      "outputs": [
        {
          "output_type": "execute_result",
          "data": {
            "text/plain": [
              "3     16135\n",
              "4     13177\n",
              "5      6920\n",
              "2      6567\n",
              "6      3815\n",
              "1      3194\n",
              "7      1602\n",
              "8       373\n",
              "9       106\n",
              "10       47\n",
              "12       15\n",
              "11       10\n",
              "20        8\n",
              "13        4\n",
              "14        3\n",
              "16        2\n",
              "18        1\n",
              "15        1\n",
              "Name: Rooms_Num, dtype: int64"
            ]
          },
          "metadata": {},
          "execution_count": 14
        }
      ]
    },
    {
      "cell_type": "code",
      "metadata": {
        "colab": {
          "base_uri": "https://localhost:8080/"
        },
        "id": "KC6iXHUxh0YY",
        "outputId": "1aead999-8eee-4b26-a546-5b25c3280c19"
      },
      "source": [
        "df.isna().sum()"
      ],
      "execution_count": null,
      "outputs": [
        {
          "output_type": "execute_result",
          "data": {
            "text/plain": [
              "Location            0\n",
              "Price               0\n",
              "Rooms               0\n",
              "Bathrooms         412\n",
              "Car Parks           0\n",
              "Property Type       0\n",
              "Size_Type         960\n",
              "Size             1125\n",
              "Furnishing       5810\n",
              "Rooms_Num           0\n",
              "dtype: int64"
            ]
          },
          "metadata": {},
          "execution_count": 15
        }
      ]
    },
    {
      "cell_type": "code",
      "metadata": {
        "colab": {
          "base_uri": "https://localhost:8080/",
          "height": 345
        },
        "id": "ZpkOmHFZzo3W",
        "outputId": "72143504-813d-4bf5-937f-7273eb30a03f"
      },
      "source": [
        "df['Location'] = df['Location'].str.replace(r\", kuala lumpur$\", \"\")\n",
        "df.head()"
      ],
      "execution_count": null,
      "outputs": [
        {
          "output_type": "execute_result",
          "data": {
            "text/html": [
              "<div>\n",
              "<style scoped>\n",
              "    .dataframe tbody tr th:only-of-type {\n",
              "        vertical-align: middle;\n",
              "    }\n",
              "\n",
              "    .dataframe tbody tr th {\n",
              "        vertical-align: top;\n",
              "    }\n",
              "\n",
              "    .dataframe thead th {\n",
              "        text-align: right;\n",
              "    }\n",
              "</style>\n",
              "<table border=\"1\" class=\"dataframe\">\n",
              "  <thead>\n",
              "    <tr style=\"text-align: right;\">\n",
              "      <th></th>\n",
              "      <th>Location</th>\n",
              "      <th>Price</th>\n",
              "      <th>Rooms</th>\n",
              "      <th>Bathrooms</th>\n",
              "      <th>Car Parks</th>\n",
              "      <th>Property Type</th>\n",
              "      <th>Size_Type</th>\n",
              "      <th>Size</th>\n",
              "      <th>Furnishing</th>\n",
              "      <th>Rooms_Num</th>\n",
              "    </tr>\n",
              "  </thead>\n",
              "  <tbody>\n",
              "    <tr>\n",
              "      <th>0</th>\n",
              "      <td>KLCC, Kuala Lumpur</td>\n",
              "      <td>RM 1,250,000</td>\n",
              "      <td>2+1</td>\n",
              "      <td>3.0</td>\n",
              "      <td>2</td>\n",
              "      <td>Serviced Residence</td>\n",
              "      <td>Built-up</td>\n",
              "      <td>1335.0</td>\n",
              "      <td>Fully Furnished</td>\n",
              "      <td>3</td>\n",
              "    </tr>\n",
              "    <tr>\n",
              "      <th>1</th>\n",
              "      <td>Damansara Heights, Kuala Lumpur</td>\n",
              "      <td>RM 6,800,000</td>\n",
              "      <td>6</td>\n",
              "      <td>7.0</td>\n",
              "      <td>0</td>\n",
              "      <td>Bungalow</td>\n",
              "      <td>Land area</td>\n",
              "      <td>6900.0</td>\n",
              "      <td>Partly Furnished</td>\n",
              "      <td>6</td>\n",
              "    </tr>\n",
              "    <tr>\n",
              "      <th>2</th>\n",
              "      <td>Dutamas, Kuala Lumpur</td>\n",
              "      <td>RM 1,030,000</td>\n",
              "      <td>3</td>\n",
              "      <td>4.0</td>\n",
              "      <td>2</td>\n",
              "      <td>Condominium (Corner)</td>\n",
              "      <td>Built-up</td>\n",
              "      <td>1875.0</td>\n",
              "      <td>Partly Furnished</td>\n",
              "      <td>3</td>\n",
              "    </tr>\n",
              "    <tr>\n",
              "      <th>4</th>\n",
              "      <td>Bukit Jalil, Kuala Lumpur</td>\n",
              "      <td>RM 900,000</td>\n",
              "      <td>4+1</td>\n",
              "      <td>3.0</td>\n",
              "      <td>2</td>\n",
              "      <td>Condominium (Corner)</td>\n",
              "      <td>Built-up</td>\n",
              "      <td>1513.0</td>\n",
              "      <td>Partly Furnished</td>\n",
              "      <td>5</td>\n",
              "    </tr>\n",
              "    <tr>\n",
              "      <th>5</th>\n",
              "      <td>Taman Tun Dr Ismail, Kuala Lumpur</td>\n",
              "      <td>RM 5,350,000</td>\n",
              "      <td>4+2</td>\n",
              "      <td>5.0</td>\n",
              "      <td>4</td>\n",
              "      <td>Bungalow</td>\n",
              "      <td>Land area</td>\n",
              "      <td>7200.0</td>\n",
              "      <td>Partly Furnished</td>\n",
              "      <td>6</td>\n",
              "    </tr>\n",
              "  </tbody>\n",
              "</table>\n",
              "</div>"
            ],
            "text/plain": [
              "                            Location         Price  ...        Furnishing  Rooms_Num\n",
              "0                 KLCC, Kuala Lumpur  RM 1,250,000  ...   Fully Furnished          3\n",
              "1    Damansara Heights, Kuala Lumpur  RM 6,800,000  ...  Partly Furnished          6\n",
              "2              Dutamas, Kuala Lumpur  RM 1,030,000  ...  Partly Furnished          3\n",
              "4          Bukit Jalil, Kuala Lumpur    RM 900,000  ...  Partly Furnished          5\n",
              "5  Taman Tun Dr Ismail, Kuala Lumpur  RM 5,350,000  ...  Partly Furnished          6\n",
              "\n",
              "[5 rows x 10 columns]"
            ]
          },
          "metadata": {},
          "execution_count": 16
        }
      ]
    },
    {
      "cell_type": "code",
      "metadata": {
        "colab": {
          "base_uri": "https://localhost:8080/",
          "height": 345
        },
        "id": "UJIpLiyuFNVa",
        "outputId": "7ee39f6f-34bd-49e9-934e-5e91e355e5bd"
      },
      "source": [
        "# There are inconsistencies in the capital letters, let’s convert these to lower strings.\n",
        "df['Location'] = df['Location'].str.lower()\n",
        "df.head()"
      ],
      "execution_count": null,
      "outputs": [
        {
          "output_type": "execute_result",
          "data": {
            "text/html": [
              "<div>\n",
              "<style scoped>\n",
              "    .dataframe tbody tr th:only-of-type {\n",
              "        vertical-align: middle;\n",
              "    }\n",
              "\n",
              "    .dataframe tbody tr th {\n",
              "        vertical-align: top;\n",
              "    }\n",
              "\n",
              "    .dataframe thead th {\n",
              "        text-align: right;\n",
              "    }\n",
              "</style>\n",
              "<table border=\"1\" class=\"dataframe\">\n",
              "  <thead>\n",
              "    <tr style=\"text-align: right;\">\n",
              "      <th></th>\n",
              "      <th>Location</th>\n",
              "      <th>Price</th>\n",
              "      <th>Rooms</th>\n",
              "      <th>Bathrooms</th>\n",
              "      <th>Car Parks</th>\n",
              "      <th>Property Type</th>\n",
              "      <th>Size_Type</th>\n",
              "      <th>Size</th>\n",
              "      <th>Furnishing</th>\n",
              "      <th>Rooms_Num</th>\n",
              "    </tr>\n",
              "  </thead>\n",
              "  <tbody>\n",
              "    <tr>\n",
              "      <th>0</th>\n",
              "      <td>klcc, kuala lumpur</td>\n",
              "      <td>RM 1,250,000</td>\n",
              "      <td>2+1</td>\n",
              "      <td>3.0</td>\n",
              "      <td>2</td>\n",
              "      <td>Serviced Residence</td>\n",
              "      <td>Built-up</td>\n",
              "      <td>1335.0</td>\n",
              "      <td>Fully Furnished</td>\n",
              "      <td>3</td>\n",
              "    </tr>\n",
              "    <tr>\n",
              "      <th>1</th>\n",
              "      <td>damansara heights, kuala lumpur</td>\n",
              "      <td>RM 6,800,000</td>\n",
              "      <td>6</td>\n",
              "      <td>7.0</td>\n",
              "      <td>0</td>\n",
              "      <td>Bungalow</td>\n",
              "      <td>Land area</td>\n",
              "      <td>6900.0</td>\n",
              "      <td>Partly Furnished</td>\n",
              "      <td>6</td>\n",
              "    </tr>\n",
              "    <tr>\n",
              "      <th>2</th>\n",
              "      <td>dutamas, kuala lumpur</td>\n",
              "      <td>RM 1,030,000</td>\n",
              "      <td>3</td>\n",
              "      <td>4.0</td>\n",
              "      <td>2</td>\n",
              "      <td>Condominium (Corner)</td>\n",
              "      <td>Built-up</td>\n",
              "      <td>1875.0</td>\n",
              "      <td>Partly Furnished</td>\n",
              "      <td>3</td>\n",
              "    </tr>\n",
              "    <tr>\n",
              "      <th>4</th>\n",
              "      <td>bukit jalil, kuala lumpur</td>\n",
              "      <td>RM 900,000</td>\n",
              "      <td>4+1</td>\n",
              "      <td>3.0</td>\n",
              "      <td>2</td>\n",
              "      <td>Condominium (Corner)</td>\n",
              "      <td>Built-up</td>\n",
              "      <td>1513.0</td>\n",
              "      <td>Partly Furnished</td>\n",
              "      <td>5</td>\n",
              "    </tr>\n",
              "    <tr>\n",
              "      <th>5</th>\n",
              "      <td>taman tun dr ismail, kuala lumpur</td>\n",
              "      <td>RM 5,350,000</td>\n",
              "      <td>4+2</td>\n",
              "      <td>5.0</td>\n",
              "      <td>4</td>\n",
              "      <td>Bungalow</td>\n",
              "      <td>Land area</td>\n",
              "      <td>7200.0</td>\n",
              "      <td>Partly Furnished</td>\n",
              "      <td>6</td>\n",
              "    </tr>\n",
              "  </tbody>\n",
              "</table>\n",
              "</div>"
            ],
            "text/plain": [
              "                            Location         Price  ...        Furnishing  Rooms_Num\n",
              "0                 klcc, kuala lumpur  RM 1,250,000  ...   Fully Furnished          3\n",
              "1    damansara heights, kuala lumpur  RM 6,800,000  ...  Partly Furnished          6\n",
              "2              dutamas, kuala lumpur  RM 1,030,000  ...  Partly Furnished          3\n",
              "4          bukit jalil, kuala lumpur    RM 900,000  ...  Partly Furnished          5\n",
              "5  taman tun dr ismail, kuala lumpur  RM 5,350,000  ...  Partly Furnished          6\n",
              "\n",
              "[5 rows x 10 columns]"
            ]
          },
          "metadata": {},
          "execution_count": 17
        }
      ]
    },
    {
      "cell_type": "code",
      "metadata": {
        "colab": {
          "base_uri": "https://localhost:8080/",
          "height": 635
        },
        "id": "B7YW7lwOr1_k",
        "outputId": "ab2f922c-688e-4c9f-cfb8-949bb8ea6105"
      },
      "source": [
        "# clean the 'Kuala Lumpur' word, since all data belongs to the same city.\n",
        "df['Location'] = df['Location'].str.replace(r\", kuala lumpur$\", \"\")\n",
        "df"
      ],
      "execution_count": null,
      "outputs": [
        {
          "output_type": "execute_result",
          "data": {
            "text/html": [
              "<div>\n",
              "<style scoped>\n",
              "    .dataframe tbody tr th:only-of-type {\n",
              "        vertical-align: middle;\n",
              "    }\n",
              "\n",
              "    .dataframe tbody tr th {\n",
              "        vertical-align: top;\n",
              "    }\n",
              "\n",
              "    .dataframe thead th {\n",
              "        text-align: right;\n",
              "    }\n",
              "</style>\n",
              "<table border=\"1\" class=\"dataframe\">\n",
              "  <thead>\n",
              "    <tr style=\"text-align: right;\">\n",
              "      <th></th>\n",
              "      <th>Location</th>\n",
              "      <th>Price</th>\n",
              "      <th>Rooms</th>\n",
              "      <th>Bathrooms</th>\n",
              "      <th>Car Parks</th>\n",
              "      <th>Property Type</th>\n",
              "      <th>Size_Type</th>\n",
              "      <th>Size</th>\n",
              "      <th>Furnishing</th>\n",
              "      <th>Rooms_Num</th>\n",
              "    </tr>\n",
              "  </thead>\n",
              "  <tbody>\n",
              "    <tr>\n",
              "      <th>0</th>\n",
              "      <td>klcc</td>\n",
              "      <td>RM 1,250,000</td>\n",
              "      <td>2+1</td>\n",
              "      <td>3.0</td>\n",
              "      <td>2</td>\n",
              "      <td>Serviced Residence</td>\n",
              "      <td>Built-up</td>\n",
              "      <td>1335.0</td>\n",
              "      <td>Fully Furnished</td>\n",
              "      <td>3</td>\n",
              "    </tr>\n",
              "    <tr>\n",
              "      <th>1</th>\n",
              "      <td>damansara heights</td>\n",
              "      <td>RM 6,800,000</td>\n",
              "      <td>6</td>\n",
              "      <td>7.0</td>\n",
              "      <td>0</td>\n",
              "      <td>Bungalow</td>\n",
              "      <td>Land area</td>\n",
              "      <td>6900.0</td>\n",
              "      <td>Partly Furnished</td>\n",
              "      <td>6</td>\n",
              "    </tr>\n",
              "    <tr>\n",
              "      <th>2</th>\n",
              "      <td>dutamas</td>\n",
              "      <td>RM 1,030,000</td>\n",
              "      <td>3</td>\n",
              "      <td>4.0</td>\n",
              "      <td>2</td>\n",
              "      <td>Condominium (Corner)</td>\n",
              "      <td>Built-up</td>\n",
              "      <td>1875.0</td>\n",
              "      <td>Partly Furnished</td>\n",
              "      <td>3</td>\n",
              "    </tr>\n",
              "    <tr>\n",
              "      <th>4</th>\n",
              "      <td>bukit jalil</td>\n",
              "      <td>RM 900,000</td>\n",
              "      <td>4+1</td>\n",
              "      <td>3.0</td>\n",
              "      <td>2</td>\n",
              "      <td>Condominium (Corner)</td>\n",
              "      <td>Built-up</td>\n",
              "      <td>1513.0</td>\n",
              "      <td>Partly Furnished</td>\n",
              "      <td>5</td>\n",
              "    </tr>\n",
              "    <tr>\n",
              "      <th>5</th>\n",
              "      <td>taman tun dr ismail</td>\n",
              "      <td>RM 5,350,000</td>\n",
              "      <td>4+2</td>\n",
              "      <td>5.0</td>\n",
              "      <td>4</td>\n",
              "      <td>Bungalow</td>\n",
              "      <td>Land area</td>\n",
              "      <td>7200.0</td>\n",
              "      <td>Partly Furnished</td>\n",
              "      <td>6</td>\n",
              "    </tr>\n",
              "    <tr>\n",
              "      <th>...</th>\n",
              "      <td>...</td>\n",
              "      <td>...</td>\n",
              "      <td>...</td>\n",
              "      <td>...</td>\n",
              "      <td>...</td>\n",
              "      <td>...</td>\n",
              "      <td>...</td>\n",
              "      <td>...</td>\n",
              "      <td>...</td>\n",
              "      <td>...</td>\n",
              "    </tr>\n",
              "    <tr>\n",
              "      <th>53878</th>\n",
              "      <td>bangsar</td>\n",
              "      <td>RM 5,100,000</td>\n",
              "      <td>5+1</td>\n",
              "      <td>4.0</td>\n",
              "      <td>0</td>\n",
              "      <td>Bungalow (Corner)</td>\n",
              "      <td>Land area</td>\n",
              "      <td>7168.0</td>\n",
              "      <td>Fully Furnished</td>\n",
              "      <td>6</td>\n",
              "    </tr>\n",
              "    <tr>\n",
              "      <th>53879</th>\n",
              "      <td>bangsar</td>\n",
              "      <td>RM 5,000,000</td>\n",
              "      <td>5</td>\n",
              "      <td>4.0</td>\n",
              "      <td>0</td>\n",
              "      <td>Bungalow (Intermediate)</td>\n",
              "      <td>Land area</td>\n",
              "      <td>15000.0</td>\n",
              "      <td>Unfurnished</td>\n",
              "      <td>5</td>\n",
              "    </tr>\n",
              "    <tr>\n",
              "      <th>53880</th>\n",
              "      <td>bangsar</td>\n",
              "      <td>RM 5,500,000</td>\n",
              "      <td>5+1</td>\n",
              "      <td>4.0</td>\n",
              "      <td>0</td>\n",
              "      <td>Bungalow (Intermediate)</td>\n",
              "      <td>Land area</td>\n",
              "      <td>7168.0</td>\n",
              "      <td>Partly Furnished</td>\n",
              "      <td>6</td>\n",
              "    </tr>\n",
              "    <tr>\n",
              "      <th>53881</th>\n",
              "      <td>wangsa maju</td>\n",
              "      <td>RM 480,000</td>\n",
              "      <td>3</td>\n",
              "      <td>2.0</td>\n",
              "      <td>0</td>\n",
              "      <td>Condominium (Intermediate)</td>\n",
              "      <td>Built-up</td>\n",
              "      <td>1150.0</td>\n",
              "      <td>Unfurnished</td>\n",
              "      <td>3</td>\n",
              "    </tr>\n",
              "    <tr>\n",
              "      <th>53882</th>\n",
              "      <td>setapak</td>\n",
              "      <td>RM 540,000</td>\n",
              "      <td>4</td>\n",
              "      <td>2.0</td>\n",
              "      <td>3</td>\n",
              "      <td>Condominium (Intermediate)</td>\n",
              "      <td>Built-up</td>\n",
              "      <td>1313.0</td>\n",
              "      <td>Partly Furnished</td>\n",
              "      <td>4</td>\n",
              "    </tr>\n",
              "  </tbody>\n",
              "</table>\n",
              "<p>51980 rows × 10 columns</p>\n",
              "</div>"
            ],
            "text/plain": [
              "                  Location         Price  ...        Furnishing  Rooms_Num\n",
              "0                     klcc  RM 1,250,000  ...   Fully Furnished          3\n",
              "1        damansara heights  RM 6,800,000  ...  Partly Furnished          6\n",
              "2                  dutamas  RM 1,030,000  ...  Partly Furnished          3\n",
              "4              bukit jalil    RM 900,000  ...  Partly Furnished          5\n",
              "5      taman tun dr ismail  RM 5,350,000  ...  Partly Furnished          6\n",
              "...                    ...           ...  ...               ...        ...\n",
              "53878              bangsar  RM 5,100,000  ...   Fully Furnished          6\n",
              "53879              bangsar  RM 5,000,000  ...       Unfurnished          5\n",
              "53880              bangsar  RM 5,500,000  ...  Partly Furnished          6\n",
              "53881          wangsa maju    RM 480,000  ...       Unfurnished          3\n",
              "53882              setapak    RM 540,000  ...  Partly Furnished          4\n",
              "\n",
              "[51980 rows x 10 columns]"
            ]
          },
          "metadata": {},
          "execution_count": 18
        }
      ]
    },
    {
      "cell_type": "code",
      "metadata": {
        "colab": {
          "base_uri": "https://localhost:8080/"
        },
        "id": "Yozrip1-RgJH",
        "outputId": "810d9763-c63d-42ea-85cc-78b453f7b171"
      },
      "source": [
        "df[\"Furnishing\"].value_counts(dropna=False)\n"
      ],
      "execution_count": null,
      "outputs": [
        {
          "output_type": "execute_result",
          "data": {
            "text/plain": [
              "Partly Furnished    26337\n",
              "Fully Furnished     13831\n",
              "NaN                  5810\n",
              "Unfurnished          5536\n",
              "Unknown               466\n",
              "Name: Furnishing, dtype: int64"
            ]
          },
          "metadata": {},
          "execution_count": 19
        }
      ]
    },
    {
      "cell_type": "code",
      "metadata": {
        "colab": {
          "base_uri": "https://localhost:8080/",
          "height": 310
        },
        "id": "hQdXiChIUL7q",
        "outputId": "b5531a62-5dd5-4701-990f-6b188bb2001d"
      },
      "source": [
        "# Drop NaN rows in Furnishing column\n",
        "df = df.dropna(subset=['Furnishing'])\n",
        "df.head()"
      ],
      "execution_count": null,
      "outputs": [
        {
          "output_type": "execute_result",
          "data": {
            "text/html": [
              "<div>\n",
              "<style scoped>\n",
              "    .dataframe tbody tr th:only-of-type {\n",
              "        vertical-align: middle;\n",
              "    }\n",
              "\n",
              "    .dataframe tbody tr th {\n",
              "        vertical-align: top;\n",
              "    }\n",
              "\n",
              "    .dataframe thead th {\n",
              "        text-align: right;\n",
              "    }\n",
              "</style>\n",
              "<table border=\"1\" class=\"dataframe\">\n",
              "  <thead>\n",
              "    <tr style=\"text-align: right;\">\n",
              "      <th></th>\n",
              "      <th>Location</th>\n",
              "      <th>Price</th>\n",
              "      <th>Rooms</th>\n",
              "      <th>Bathrooms</th>\n",
              "      <th>Car Parks</th>\n",
              "      <th>Property Type</th>\n",
              "      <th>Size_Type</th>\n",
              "      <th>Size</th>\n",
              "      <th>Furnishing</th>\n",
              "      <th>Rooms_Num</th>\n",
              "    </tr>\n",
              "  </thead>\n",
              "  <tbody>\n",
              "    <tr>\n",
              "      <th>0</th>\n",
              "      <td>klcc</td>\n",
              "      <td>RM 1,250,000</td>\n",
              "      <td>2+1</td>\n",
              "      <td>3.0</td>\n",
              "      <td>2</td>\n",
              "      <td>Serviced Residence</td>\n",
              "      <td>Built-up</td>\n",
              "      <td>1335.0</td>\n",
              "      <td>Fully Furnished</td>\n",
              "      <td>3</td>\n",
              "    </tr>\n",
              "    <tr>\n",
              "      <th>1</th>\n",
              "      <td>damansara heights</td>\n",
              "      <td>RM 6,800,000</td>\n",
              "      <td>6</td>\n",
              "      <td>7.0</td>\n",
              "      <td>0</td>\n",
              "      <td>Bungalow</td>\n",
              "      <td>Land area</td>\n",
              "      <td>6900.0</td>\n",
              "      <td>Partly Furnished</td>\n",
              "      <td>6</td>\n",
              "    </tr>\n",
              "    <tr>\n",
              "      <th>2</th>\n",
              "      <td>dutamas</td>\n",
              "      <td>RM 1,030,000</td>\n",
              "      <td>3</td>\n",
              "      <td>4.0</td>\n",
              "      <td>2</td>\n",
              "      <td>Condominium (Corner)</td>\n",
              "      <td>Built-up</td>\n",
              "      <td>1875.0</td>\n",
              "      <td>Partly Furnished</td>\n",
              "      <td>3</td>\n",
              "    </tr>\n",
              "    <tr>\n",
              "      <th>4</th>\n",
              "      <td>bukit jalil</td>\n",
              "      <td>RM 900,000</td>\n",
              "      <td>4+1</td>\n",
              "      <td>3.0</td>\n",
              "      <td>2</td>\n",
              "      <td>Condominium (Corner)</td>\n",
              "      <td>Built-up</td>\n",
              "      <td>1513.0</td>\n",
              "      <td>Partly Furnished</td>\n",
              "      <td>5</td>\n",
              "    </tr>\n",
              "    <tr>\n",
              "      <th>5</th>\n",
              "      <td>taman tun dr ismail</td>\n",
              "      <td>RM 5,350,000</td>\n",
              "      <td>4+2</td>\n",
              "      <td>5.0</td>\n",
              "      <td>4</td>\n",
              "      <td>Bungalow</td>\n",
              "      <td>Land area</td>\n",
              "      <td>7200.0</td>\n",
              "      <td>Partly Furnished</td>\n",
              "      <td>6</td>\n",
              "    </tr>\n",
              "  </tbody>\n",
              "</table>\n",
              "</div>"
            ],
            "text/plain": [
              "              Location         Price Rooms  ...    Size        Furnishing Rooms_Num\n",
              "0                 klcc  RM 1,250,000   2+1  ...  1335.0   Fully Furnished         3\n",
              "1    damansara heights  RM 6,800,000     6  ...  6900.0  Partly Furnished         6\n",
              "2              dutamas  RM 1,030,000     3  ...  1875.0  Partly Furnished         3\n",
              "4          bukit jalil    RM 900,000   4+1  ...  1513.0  Partly Furnished         5\n",
              "5  taman tun dr ismail  RM 5,350,000   4+2  ...  7200.0  Partly Furnished         6\n",
              "\n",
              "[5 rows x 10 columns]"
            ]
          },
          "metadata": {},
          "execution_count": 20
        }
      ]
    },
    {
      "cell_type": "code",
      "metadata": {
        "colab": {
          "base_uri": "https://localhost:8080/",
          "height": 434
        },
        "id": "ln1XG_rz0abs",
        "outputId": "e0256b4a-008a-4768-9abd-79778a466380"
      },
      "source": [
        "# fill Bathrooms coloumn with 0 value, because not all the rooms have a bathrooms\n",
        "df['Bathrooms'] = df['Bathrooms'].fillna('0')\n",
        "df.head()"
      ],
      "execution_count": null,
      "outputs": [
        {
          "output_type": "stream",
          "name": "stderr",
          "text": [
            "/usr/local/lib/python3.7/dist-packages/ipykernel_launcher.py:2: SettingWithCopyWarning: \n",
            "A value is trying to be set on a copy of a slice from a DataFrame.\n",
            "Try using .loc[row_indexer,col_indexer] = value instead\n",
            "\n",
            "See the caveats in the documentation: https://pandas.pydata.org/pandas-docs/stable/user_guide/indexing.html#returning-a-view-versus-a-copy\n",
            "  \n"
          ]
        },
        {
          "output_type": "execute_result",
          "data": {
            "text/html": [
              "<div>\n",
              "<style scoped>\n",
              "    .dataframe tbody tr th:only-of-type {\n",
              "        vertical-align: middle;\n",
              "    }\n",
              "\n",
              "    .dataframe tbody tr th {\n",
              "        vertical-align: top;\n",
              "    }\n",
              "\n",
              "    .dataframe thead th {\n",
              "        text-align: right;\n",
              "    }\n",
              "</style>\n",
              "<table border=\"1\" class=\"dataframe\">\n",
              "  <thead>\n",
              "    <tr style=\"text-align: right;\">\n",
              "      <th></th>\n",
              "      <th>Location</th>\n",
              "      <th>Price</th>\n",
              "      <th>Rooms</th>\n",
              "      <th>Bathrooms</th>\n",
              "      <th>Car Parks</th>\n",
              "      <th>Property Type</th>\n",
              "      <th>Size_Type</th>\n",
              "      <th>Size</th>\n",
              "      <th>Furnishing</th>\n",
              "      <th>Rooms_Num</th>\n",
              "    </tr>\n",
              "  </thead>\n",
              "  <tbody>\n",
              "    <tr>\n",
              "      <th>0</th>\n",
              "      <td>klcc</td>\n",
              "      <td>RM 1,250,000</td>\n",
              "      <td>2+1</td>\n",
              "      <td>3</td>\n",
              "      <td>2</td>\n",
              "      <td>Serviced Residence</td>\n",
              "      <td>Built-up</td>\n",
              "      <td>1335.0</td>\n",
              "      <td>Fully Furnished</td>\n",
              "      <td>3</td>\n",
              "    </tr>\n",
              "    <tr>\n",
              "      <th>1</th>\n",
              "      <td>damansara heights</td>\n",
              "      <td>RM 6,800,000</td>\n",
              "      <td>6</td>\n",
              "      <td>7</td>\n",
              "      <td>0</td>\n",
              "      <td>Bungalow</td>\n",
              "      <td>Land area</td>\n",
              "      <td>6900.0</td>\n",
              "      <td>Partly Furnished</td>\n",
              "      <td>6</td>\n",
              "    </tr>\n",
              "    <tr>\n",
              "      <th>2</th>\n",
              "      <td>dutamas</td>\n",
              "      <td>RM 1,030,000</td>\n",
              "      <td>3</td>\n",
              "      <td>4</td>\n",
              "      <td>2</td>\n",
              "      <td>Condominium (Corner)</td>\n",
              "      <td>Built-up</td>\n",
              "      <td>1875.0</td>\n",
              "      <td>Partly Furnished</td>\n",
              "      <td>3</td>\n",
              "    </tr>\n",
              "    <tr>\n",
              "      <th>4</th>\n",
              "      <td>bukit jalil</td>\n",
              "      <td>RM 900,000</td>\n",
              "      <td>4+1</td>\n",
              "      <td>3</td>\n",
              "      <td>2</td>\n",
              "      <td>Condominium (Corner)</td>\n",
              "      <td>Built-up</td>\n",
              "      <td>1513.0</td>\n",
              "      <td>Partly Furnished</td>\n",
              "      <td>5</td>\n",
              "    </tr>\n",
              "    <tr>\n",
              "      <th>5</th>\n",
              "      <td>taman tun dr ismail</td>\n",
              "      <td>RM 5,350,000</td>\n",
              "      <td>4+2</td>\n",
              "      <td>5</td>\n",
              "      <td>4</td>\n",
              "      <td>Bungalow</td>\n",
              "      <td>Land area</td>\n",
              "      <td>7200.0</td>\n",
              "      <td>Partly Furnished</td>\n",
              "      <td>6</td>\n",
              "    </tr>\n",
              "  </tbody>\n",
              "</table>\n",
              "</div>"
            ],
            "text/plain": [
              "              Location         Price Rooms  ...    Size        Furnishing Rooms_Num\n",
              "0                 klcc  RM 1,250,000   2+1  ...  1335.0   Fully Furnished         3\n",
              "1    damansara heights  RM 6,800,000     6  ...  6900.0  Partly Furnished         6\n",
              "2              dutamas  RM 1,030,000     3  ...  1875.0  Partly Furnished         3\n",
              "4          bukit jalil    RM 900,000   4+1  ...  1513.0  Partly Furnished         5\n",
              "5  taman tun dr ismail  RM 5,350,000   4+2  ...  7200.0  Partly Furnished         6\n",
              "\n",
              "[5 rows x 10 columns]"
            ]
          },
          "metadata": {},
          "execution_count": 21
        }
      ]
    },
    {
      "cell_type": "code",
      "metadata": {
        "colab": {
          "base_uri": "https://localhost:8080/",
          "height": 310
        },
        "id": "EZaAc9YF0mSF",
        "outputId": "6673e041-0ef6-4561-86a4-5b5206b21580"
      },
      "source": [
        "df = df.dropna(subset=['Size'])\n",
        "df.head()"
      ],
      "execution_count": null,
      "outputs": [
        {
          "output_type": "execute_result",
          "data": {
            "text/html": [
              "<div>\n",
              "<style scoped>\n",
              "    .dataframe tbody tr th:only-of-type {\n",
              "        vertical-align: middle;\n",
              "    }\n",
              "\n",
              "    .dataframe tbody tr th {\n",
              "        vertical-align: top;\n",
              "    }\n",
              "\n",
              "    .dataframe thead th {\n",
              "        text-align: right;\n",
              "    }\n",
              "</style>\n",
              "<table border=\"1\" class=\"dataframe\">\n",
              "  <thead>\n",
              "    <tr style=\"text-align: right;\">\n",
              "      <th></th>\n",
              "      <th>Location</th>\n",
              "      <th>Price</th>\n",
              "      <th>Rooms</th>\n",
              "      <th>Bathrooms</th>\n",
              "      <th>Car Parks</th>\n",
              "      <th>Property Type</th>\n",
              "      <th>Size_Type</th>\n",
              "      <th>Size</th>\n",
              "      <th>Furnishing</th>\n",
              "      <th>Rooms_Num</th>\n",
              "    </tr>\n",
              "  </thead>\n",
              "  <tbody>\n",
              "    <tr>\n",
              "      <th>0</th>\n",
              "      <td>klcc</td>\n",
              "      <td>RM 1,250,000</td>\n",
              "      <td>2+1</td>\n",
              "      <td>3</td>\n",
              "      <td>2</td>\n",
              "      <td>Serviced Residence</td>\n",
              "      <td>Built-up</td>\n",
              "      <td>1335.0</td>\n",
              "      <td>Fully Furnished</td>\n",
              "      <td>3</td>\n",
              "    </tr>\n",
              "    <tr>\n",
              "      <th>1</th>\n",
              "      <td>damansara heights</td>\n",
              "      <td>RM 6,800,000</td>\n",
              "      <td>6</td>\n",
              "      <td>7</td>\n",
              "      <td>0</td>\n",
              "      <td>Bungalow</td>\n",
              "      <td>Land area</td>\n",
              "      <td>6900.0</td>\n",
              "      <td>Partly Furnished</td>\n",
              "      <td>6</td>\n",
              "    </tr>\n",
              "    <tr>\n",
              "      <th>2</th>\n",
              "      <td>dutamas</td>\n",
              "      <td>RM 1,030,000</td>\n",
              "      <td>3</td>\n",
              "      <td>4</td>\n",
              "      <td>2</td>\n",
              "      <td>Condominium (Corner)</td>\n",
              "      <td>Built-up</td>\n",
              "      <td>1875.0</td>\n",
              "      <td>Partly Furnished</td>\n",
              "      <td>3</td>\n",
              "    </tr>\n",
              "    <tr>\n",
              "      <th>4</th>\n",
              "      <td>bukit jalil</td>\n",
              "      <td>RM 900,000</td>\n",
              "      <td>4+1</td>\n",
              "      <td>3</td>\n",
              "      <td>2</td>\n",
              "      <td>Condominium (Corner)</td>\n",
              "      <td>Built-up</td>\n",
              "      <td>1513.0</td>\n",
              "      <td>Partly Furnished</td>\n",
              "      <td>5</td>\n",
              "    </tr>\n",
              "    <tr>\n",
              "      <th>5</th>\n",
              "      <td>taman tun dr ismail</td>\n",
              "      <td>RM 5,350,000</td>\n",
              "      <td>4+2</td>\n",
              "      <td>5</td>\n",
              "      <td>4</td>\n",
              "      <td>Bungalow</td>\n",
              "      <td>Land area</td>\n",
              "      <td>7200.0</td>\n",
              "      <td>Partly Furnished</td>\n",
              "      <td>6</td>\n",
              "    </tr>\n",
              "  </tbody>\n",
              "</table>\n",
              "</div>"
            ],
            "text/plain": [
              "              Location         Price Rooms  ...    Size        Furnishing Rooms_Num\n",
              "0                 klcc  RM 1,250,000   2+1  ...  1335.0   Fully Furnished         3\n",
              "1    damansara heights  RM 6,800,000     6  ...  6900.0  Partly Furnished         6\n",
              "2              dutamas  RM 1,030,000     3  ...  1875.0  Partly Furnished         3\n",
              "4          bukit jalil    RM 900,000   4+1  ...  1513.0  Partly Furnished         5\n",
              "5  taman tun dr ismail  RM 5,350,000   4+2  ...  7200.0  Partly Furnished         6\n",
              "\n",
              "[5 rows x 10 columns]"
            ]
          },
          "metadata": {},
          "execution_count": 22
        }
      ]
    },
    {
      "cell_type": "code",
      "metadata": {
        "colab": {
          "base_uri": "https://localhost:8080/"
        },
        "id": "HeQaQKU-Tc0k",
        "outputId": "29b182c4-e485-4471-c759-87b26d3bcde0"
      },
      "source": [
        "# Remove \"RM\" & \",\" for price to make us easier when do clustering\n",
        "price1 = df['Price'].str.strip()\n",
        "price2= price1.str.replace(\"RM\", \"\")\n",
        "price3= price2.str.replace(\",\", \"\")\n",
        "price3\n"
      ],
      "execution_count": null,
      "outputs": [
        {
          "output_type": "execute_result",
          "data": {
            "text/plain": [
              "0         1250000\n",
              "1         6800000\n",
              "2         1030000\n",
              "4          900000\n",
              "5         5350000\n",
              "           ...   \n",
              "53878     5100000\n",
              "53879     5000000\n",
              "53880     5500000\n",
              "53881      480000\n",
              "53882      540000\n",
              "Name: Price, Length: 45299, dtype: object"
            ]
          },
          "metadata": {},
          "execution_count": 23
        }
      ]
    },
    {
      "cell_type": "code",
      "metadata": {
        "colab": {
          "base_uri": "https://localhost:8080/",
          "height": 635
        },
        "id": "1s0-dL3aT71g",
        "outputId": "857573f2-5250-4246-e3e4-9a37f1f52b6f"
      },
      "source": [
        "df['Price_non_RM'] = price3\n",
        "df"
      ],
      "execution_count": null,
      "outputs": [
        {
          "output_type": "execute_result",
          "data": {
            "text/html": [
              "<div>\n",
              "<style scoped>\n",
              "    .dataframe tbody tr th:only-of-type {\n",
              "        vertical-align: middle;\n",
              "    }\n",
              "\n",
              "    .dataframe tbody tr th {\n",
              "        vertical-align: top;\n",
              "    }\n",
              "\n",
              "    .dataframe thead th {\n",
              "        text-align: right;\n",
              "    }\n",
              "</style>\n",
              "<table border=\"1\" class=\"dataframe\">\n",
              "  <thead>\n",
              "    <tr style=\"text-align: right;\">\n",
              "      <th></th>\n",
              "      <th>Location</th>\n",
              "      <th>Price</th>\n",
              "      <th>Rooms</th>\n",
              "      <th>Bathrooms</th>\n",
              "      <th>Car Parks</th>\n",
              "      <th>Property Type</th>\n",
              "      <th>Size_Type</th>\n",
              "      <th>Size</th>\n",
              "      <th>Furnishing</th>\n",
              "      <th>Rooms_Num</th>\n",
              "      <th>Price_non_RM</th>\n",
              "    </tr>\n",
              "  </thead>\n",
              "  <tbody>\n",
              "    <tr>\n",
              "      <th>0</th>\n",
              "      <td>klcc</td>\n",
              "      <td>RM 1,250,000</td>\n",
              "      <td>2+1</td>\n",
              "      <td>3</td>\n",
              "      <td>2</td>\n",
              "      <td>Serviced Residence</td>\n",
              "      <td>Built-up</td>\n",
              "      <td>1335.0</td>\n",
              "      <td>Fully Furnished</td>\n",
              "      <td>3</td>\n",
              "      <td>1250000</td>\n",
              "    </tr>\n",
              "    <tr>\n",
              "      <th>1</th>\n",
              "      <td>damansara heights</td>\n",
              "      <td>RM 6,800,000</td>\n",
              "      <td>6</td>\n",
              "      <td>7</td>\n",
              "      <td>0</td>\n",
              "      <td>Bungalow</td>\n",
              "      <td>Land area</td>\n",
              "      <td>6900.0</td>\n",
              "      <td>Partly Furnished</td>\n",
              "      <td>6</td>\n",
              "      <td>6800000</td>\n",
              "    </tr>\n",
              "    <tr>\n",
              "      <th>2</th>\n",
              "      <td>dutamas</td>\n",
              "      <td>RM 1,030,000</td>\n",
              "      <td>3</td>\n",
              "      <td>4</td>\n",
              "      <td>2</td>\n",
              "      <td>Condominium (Corner)</td>\n",
              "      <td>Built-up</td>\n",
              "      <td>1875.0</td>\n",
              "      <td>Partly Furnished</td>\n",
              "      <td>3</td>\n",
              "      <td>1030000</td>\n",
              "    </tr>\n",
              "    <tr>\n",
              "      <th>4</th>\n",
              "      <td>bukit jalil</td>\n",
              "      <td>RM 900,000</td>\n",
              "      <td>4+1</td>\n",
              "      <td>3</td>\n",
              "      <td>2</td>\n",
              "      <td>Condominium (Corner)</td>\n",
              "      <td>Built-up</td>\n",
              "      <td>1513.0</td>\n",
              "      <td>Partly Furnished</td>\n",
              "      <td>5</td>\n",
              "      <td>900000</td>\n",
              "    </tr>\n",
              "    <tr>\n",
              "      <th>5</th>\n",
              "      <td>taman tun dr ismail</td>\n",
              "      <td>RM 5,350,000</td>\n",
              "      <td>4+2</td>\n",
              "      <td>5</td>\n",
              "      <td>4</td>\n",
              "      <td>Bungalow</td>\n",
              "      <td>Land area</td>\n",
              "      <td>7200.0</td>\n",
              "      <td>Partly Furnished</td>\n",
              "      <td>6</td>\n",
              "      <td>5350000</td>\n",
              "    </tr>\n",
              "    <tr>\n",
              "      <th>...</th>\n",
              "      <td>...</td>\n",
              "      <td>...</td>\n",
              "      <td>...</td>\n",
              "      <td>...</td>\n",
              "      <td>...</td>\n",
              "      <td>...</td>\n",
              "      <td>...</td>\n",
              "      <td>...</td>\n",
              "      <td>...</td>\n",
              "      <td>...</td>\n",
              "      <td>...</td>\n",
              "    </tr>\n",
              "    <tr>\n",
              "      <th>53878</th>\n",
              "      <td>bangsar</td>\n",
              "      <td>RM 5,100,000</td>\n",
              "      <td>5+1</td>\n",
              "      <td>4</td>\n",
              "      <td>0</td>\n",
              "      <td>Bungalow (Corner)</td>\n",
              "      <td>Land area</td>\n",
              "      <td>7168.0</td>\n",
              "      <td>Fully Furnished</td>\n",
              "      <td>6</td>\n",
              "      <td>5100000</td>\n",
              "    </tr>\n",
              "    <tr>\n",
              "      <th>53879</th>\n",
              "      <td>bangsar</td>\n",
              "      <td>RM 5,000,000</td>\n",
              "      <td>5</td>\n",
              "      <td>4</td>\n",
              "      <td>0</td>\n",
              "      <td>Bungalow (Intermediate)</td>\n",
              "      <td>Land area</td>\n",
              "      <td>15000.0</td>\n",
              "      <td>Unfurnished</td>\n",
              "      <td>5</td>\n",
              "      <td>5000000</td>\n",
              "    </tr>\n",
              "    <tr>\n",
              "      <th>53880</th>\n",
              "      <td>bangsar</td>\n",
              "      <td>RM 5,500,000</td>\n",
              "      <td>5+1</td>\n",
              "      <td>4</td>\n",
              "      <td>0</td>\n",
              "      <td>Bungalow (Intermediate)</td>\n",
              "      <td>Land area</td>\n",
              "      <td>7168.0</td>\n",
              "      <td>Partly Furnished</td>\n",
              "      <td>6</td>\n",
              "      <td>5500000</td>\n",
              "    </tr>\n",
              "    <tr>\n",
              "      <th>53881</th>\n",
              "      <td>wangsa maju</td>\n",
              "      <td>RM 480,000</td>\n",
              "      <td>3</td>\n",
              "      <td>2</td>\n",
              "      <td>0</td>\n",
              "      <td>Condominium (Intermediate)</td>\n",
              "      <td>Built-up</td>\n",
              "      <td>1150.0</td>\n",
              "      <td>Unfurnished</td>\n",
              "      <td>3</td>\n",
              "      <td>480000</td>\n",
              "    </tr>\n",
              "    <tr>\n",
              "      <th>53882</th>\n",
              "      <td>setapak</td>\n",
              "      <td>RM 540,000</td>\n",
              "      <td>4</td>\n",
              "      <td>2</td>\n",
              "      <td>3</td>\n",
              "      <td>Condominium (Intermediate)</td>\n",
              "      <td>Built-up</td>\n",
              "      <td>1313.0</td>\n",
              "      <td>Partly Furnished</td>\n",
              "      <td>4</td>\n",
              "      <td>540000</td>\n",
              "    </tr>\n",
              "  </tbody>\n",
              "</table>\n",
              "<p>45299 rows × 11 columns</p>\n",
              "</div>"
            ],
            "text/plain": [
              "                  Location         Price  ... Rooms_Num Price_non_RM\n",
              "0                     klcc  RM 1,250,000  ...         3      1250000\n",
              "1        damansara heights  RM 6,800,000  ...         6      6800000\n",
              "2                  dutamas  RM 1,030,000  ...         3      1030000\n",
              "4              bukit jalil    RM 900,000  ...         5       900000\n",
              "5      taman tun dr ismail  RM 5,350,000  ...         6      5350000\n",
              "...                    ...           ...  ...       ...          ...\n",
              "53878              bangsar  RM 5,100,000  ...         6      5100000\n",
              "53879              bangsar  RM 5,000,000  ...         5      5000000\n",
              "53880              bangsar  RM 5,500,000  ...         6      5500000\n",
              "53881          wangsa maju    RM 480,000  ...         3       480000\n",
              "53882              setapak    RM 540,000  ...         4       540000\n",
              "\n",
              "[45299 rows x 11 columns]"
            ]
          },
          "metadata": {},
          "execution_count": 24
        }
      ]
    },
    {
      "cell_type": "code",
      "metadata": {
        "colab": {
          "base_uri": "https://localhost:8080/"
        },
        "id": "y9NVRPf30q09",
        "outputId": "bdb5b552-ca37-49e2-b416-9bbc424e72f8"
      },
      "source": [
        "df.info()\n"
      ],
      "execution_count": null,
      "outputs": [
        {
          "output_type": "stream",
          "name": "stdout",
          "text": [
            "<class 'pandas.core.frame.DataFrame'>\n",
            "Int64Index: 45299 entries, 0 to 53882\n",
            "Data columns (total 11 columns):\n",
            " #   Column         Non-Null Count  Dtype  \n",
            "---  ------         --------------  -----  \n",
            " 0   Location       45299 non-null  object \n",
            " 1   Price          45299 non-null  object \n",
            " 2   Rooms          45299 non-null  object \n",
            " 3   Bathrooms      45299 non-null  object \n",
            " 4   Car Parks      45299 non-null  object \n",
            " 5   Property Type  45299 non-null  object \n",
            " 6   Size_Type      45299 non-null  object \n",
            " 7   Size           45299 non-null  float64\n",
            " 8   Furnishing     45299 non-null  object \n",
            " 9   Rooms_Num      45299 non-null  int64  \n",
            " 10  Price_non_RM   45299 non-null  object \n",
            "dtypes: float64(1), int64(1), object(9)\n",
            "memory usage: 4.1+ MB\n"
          ]
        }
      ]
    },
    {
      "cell_type": "code",
      "metadata": {
        "colab": {
          "base_uri": "https://localhost:8080/"
        },
        "id": "vazzr2l6UCDm",
        "outputId": "224a681d-147d-4e45-fdb5-33956f888a45"
      },
      "source": [
        "# We already manipulate the data and handling missing value\n",
        "df.isna().sum()"
      ],
      "execution_count": null,
      "outputs": [
        {
          "output_type": "execute_result",
          "data": {
            "text/plain": [
              "Location         0\n",
              "Price            0\n",
              "Rooms            0\n",
              "Bathrooms        0\n",
              "Car Parks        0\n",
              "Property Type    0\n",
              "Size_Type        0\n",
              "Size             0\n",
              "Furnishing       0\n",
              "Rooms_Num        0\n",
              "Price_non_RM     0\n",
              "dtype: int64"
            ]
          },
          "metadata": {},
          "execution_count": 26
        }
      ]
    },
    {
      "cell_type": "markdown",
      "metadata": {
        "id": "Xs-Rl8SKtvoy"
      },
      "source": [
        "# Handling Outlier & Converting Data in Each Coloumn"
      ]
    },
    {
      "cell_type": "code",
      "metadata": {
        "id": "UuiYfjkq4HjL"
      },
      "source": [
        "df['Price_non_RM']=df['Price_non_RM'].astype(int)"
      ],
      "execution_count": null,
      "outputs": []
    },
    {
      "cell_type": "code",
      "metadata": {
        "colab": {
          "base_uri": "https://localhost:8080/"
        },
        "id": "Web-KhMpt3kP",
        "outputId": "4462b8e0-ac86-471e-9cbc-7e4a465d6f5d"
      },
      "source": [
        "Q1 = df[['Price_non_RM']].quantile(0.25)\n",
        "Q3 = df[['Price_non_RM']].quantile(0.75)\n",
        "\n",
        "IQR = Q3 - Q1\n",
        "boxplot_min = Q1 - 1.5 * IQR\n",
        "boxplot_max = Q3 + 1.5 * IQR\n",
        "print('Q1:\\n',Q1)\n",
        "print('\\nQ3:\\n',Q3)\n",
        "print('\\nIQR:\\n',IQR)\n",
        "print('\\nMin:\\n',boxplot_min)\n",
        "print('\\nMax:\\n',boxplot_max)"
      ],
      "execution_count": null,
      "outputs": [
        {
          "output_type": "stream",
          "name": "stdout",
          "text": [
            "Q1:\n",
            " Price_non_RM    598000.0\n",
            "Name: 0.25, dtype: float64\n",
            "\n",
            "Q3:\n",
            " Price_non_RM    1936810.0\n",
            "Name: 0.75, dtype: float64\n",
            "\n",
            "IQR:\n",
            " Price_non_RM    1338810.0\n",
            "dtype: float64\n",
            "\n",
            "Min:\n",
            " Price_non_RM   -1410215.0\n",
            "dtype: float64\n",
            "\n",
            "Max:\n",
            " Price_non_RM    3945025.0\n",
            "dtype: float64\n"
          ]
        }
      ]
    },
    {
      "cell_type": "code",
      "metadata": {
        "colab": {
          "base_uri": "https://localhost:8080/",
          "height": 424
        },
        "id": "CQnbYGWF-L3e",
        "outputId": "bede3e10-c03f-4a33-e712-a49dad3c26f7"
      },
      "source": [
        "Price_non_RM_min = df['Price_non_RM']<-1410215\n",
        "Price_non_RM_max = df['Price_non_RM']>3945025\n",
        "\n",
        "new_df = df[~\n",
        "    (Price_non_RM_min|Price_non_RM_max)\n",
        "    ]\n",
        "\n",
        "new_df[['Price_non_RM']]"
      ],
      "execution_count": null,
      "outputs": [
        {
          "output_type": "execute_result",
          "data": {
            "text/html": [
              "<div>\n",
              "<style scoped>\n",
              "    .dataframe tbody tr th:only-of-type {\n",
              "        vertical-align: middle;\n",
              "    }\n",
              "\n",
              "    .dataframe tbody tr th {\n",
              "        vertical-align: top;\n",
              "    }\n",
              "\n",
              "    .dataframe thead th {\n",
              "        text-align: right;\n",
              "    }\n",
              "</style>\n",
              "<table border=\"1\" class=\"dataframe\">\n",
              "  <thead>\n",
              "    <tr style=\"text-align: right;\">\n",
              "      <th></th>\n",
              "      <th>Price_non_RM</th>\n",
              "    </tr>\n",
              "  </thead>\n",
              "  <tbody>\n",
              "    <tr>\n",
              "      <th>0</th>\n",
              "      <td>1250000</td>\n",
              "    </tr>\n",
              "    <tr>\n",
              "      <th>2</th>\n",
              "      <td>1030000</td>\n",
              "    </tr>\n",
              "    <tr>\n",
              "      <th>4</th>\n",
              "      <td>900000</td>\n",
              "    </tr>\n",
              "    <tr>\n",
              "      <th>7</th>\n",
              "      <td>2600000</td>\n",
              "    </tr>\n",
              "    <tr>\n",
              "      <th>8</th>\n",
              "      <td>1950000</td>\n",
              "    </tr>\n",
              "    <tr>\n",
              "      <th>...</th>\n",
              "      <td>...</td>\n",
              "    </tr>\n",
              "    <tr>\n",
              "      <th>53874</th>\n",
              "      <td>480000</td>\n",
              "    </tr>\n",
              "    <tr>\n",
              "      <th>53875</th>\n",
              "      <td>475000</td>\n",
              "    </tr>\n",
              "    <tr>\n",
              "      <th>53876</th>\n",
              "      <td>2700000</td>\n",
              "    </tr>\n",
              "    <tr>\n",
              "      <th>53881</th>\n",
              "      <td>480000</td>\n",
              "    </tr>\n",
              "    <tr>\n",
              "      <th>53882</th>\n",
              "      <td>540000</td>\n",
              "    </tr>\n",
              "  </tbody>\n",
              "</table>\n",
              "<p>41110 rows × 1 columns</p>\n",
              "</div>"
            ],
            "text/plain": [
              "       Price_non_RM\n",
              "0           1250000\n",
              "2           1030000\n",
              "4            900000\n",
              "7           2600000\n",
              "8           1950000\n",
              "...             ...\n",
              "53874        480000\n",
              "53875        475000\n",
              "53876       2700000\n",
              "53881        480000\n",
              "53882        540000\n",
              "\n",
              "[41110 rows x 1 columns]"
            ]
          },
          "metadata": {},
          "execution_count": 29
        }
      ]
    },
    {
      "cell_type": "code",
      "metadata": {
        "colab": {
          "base_uri": "https://localhost:8080/"
        },
        "id": "a-3xNHfQ6yH-",
        "outputId": "5af219b4-b0b0-48b1-fe73-9f93b2becb73"
      },
      "source": [
        "Q1 = new_df[['Size']].quantile(0.25)\n",
        "Q3 = new_df[['Size']].quantile(0.75)\n",
        "\n",
        "IQR = Q3 - Q1\n",
        "boxplot_min = Q1 - 1.5 * IQR\n",
        "boxplot_max = Q3 + 1.5 * IQR\n",
        "print('Q1:\\n',Q1)\n",
        "print('\\nQ3:\\n',Q3)\n",
        "print('\\nIQR:\\n',IQR)\n",
        "print('\\nMin:\\n',boxplot_min)\n",
        "print('\\nMax:\\n',boxplot_max)"
      ],
      "execution_count": null,
      "outputs": [
        {
          "output_type": "stream",
          "name": "stdout",
          "text": [
            "Q1:\n",
            " Size    990.0\n",
            "Name: 0.25, dtype: float64\n",
            "\n",
            "Q3:\n",
            " Size    1878.0\n",
            "Name: 0.75, dtype: float64\n",
            "\n",
            "IQR:\n",
            " Size    888.0\n",
            "dtype: float64\n",
            "\n",
            "Min:\n",
            " Size   -342.0\n",
            "dtype: float64\n",
            "\n",
            "Max:\n",
            " Size    3210.0\n",
            "dtype: float64\n"
          ]
        }
      ]
    },
    {
      "cell_type": "code",
      "metadata": {
        "colab": {
          "base_uri": "https://localhost:8080/",
          "height": 424
        },
        "id": "c5KJ_yzgACpY",
        "outputId": "6fa1f568-7b9f-4073-8e9e-180225f31bf8"
      },
      "source": [
        "Size_min = new_df['Size']<-342\n",
        "Size_max = new_df['Size']>3210\n",
        "\n",
        "new_df2 = new_df[~\n",
        "    (Size_min|Size_max)\n",
        "    ]\n",
        "\n",
        "new_df2[['Size']]"
      ],
      "execution_count": null,
      "outputs": [
        {
          "output_type": "execute_result",
          "data": {
            "text/html": [
              "<div>\n",
              "<style scoped>\n",
              "    .dataframe tbody tr th:only-of-type {\n",
              "        vertical-align: middle;\n",
              "    }\n",
              "\n",
              "    .dataframe tbody tr th {\n",
              "        vertical-align: top;\n",
              "    }\n",
              "\n",
              "    .dataframe thead th {\n",
              "        text-align: right;\n",
              "    }\n",
              "</style>\n",
              "<table border=\"1\" class=\"dataframe\">\n",
              "  <thead>\n",
              "    <tr style=\"text-align: right;\">\n",
              "      <th></th>\n",
              "      <th>Size</th>\n",
              "    </tr>\n",
              "  </thead>\n",
              "  <tbody>\n",
              "    <tr>\n",
              "      <th>0</th>\n",
              "      <td>1335.0</td>\n",
              "    </tr>\n",
              "    <tr>\n",
              "      <th>2</th>\n",
              "      <td>1875.0</td>\n",
              "    </tr>\n",
              "    <tr>\n",
              "      <th>4</th>\n",
              "      <td>1513.0</td>\n",
              "    </tr>\n",
              "    <tr>\n",
              "      <th>8</th>\n",
              "      <td>1875.0</td>\n",
              "    </tr>\n",
              "    <tr>\n",
              "      <th>9</th>\n",
              "      <td>904.0</td>\n",
              "    </tr>\n",
              "    <tr>\n",
              "      <th>...</th>\n",
              "      <td>...</td>\n",
              "    </tr>\n",
              "    <tr>\n",
              "      <th>53873</th>\n",
              "      <td>1430.0</td>\n",
              "    </tr>\n",
              "    <tr>\n",
              "      <th>53874</th>\n",
              "      <td>1092.0</td>\n",
              "    </tr>\n",
              "    <tr>\n",
              "      <th>53875</th>\n",
              "      <td>852.0</td>\n",
              "    </tr>\n",
              "    <tr>\n",
              "      <th>53881</th>\n",
              "      <td>1150.0</td>\n",
              "    </tr>\n",
              "    <tr>\n",
              "      <th>53882</th>\n",
              "      <td>1313.0</td>\n",
              "    </tr>\n",
              "  </tbody>\n",
              "</table>\n",
              "<p>37173 rows × 1 columns</p>\n",
              "</div>"
            ],
            "text/plain": [
              "         Size\n",
              "0      1335.0\n",
              "2      1875.0\n",
              "4      1513.0\n",
              "8      1875.0\n",
              "9       904.0\n",
              "...       ...\n",
              "53873  1430.0\n",
              "53874  1092.0\n",
              "53875   852.0\n",
              "53881  1150.0\n",
              "53882  1313.0\n",
              "\n",
              "[37173 rows x 1 columns]"
            ]
          },
          "metadata": {},
          "execution_count": 31
        }
      ]
    },
    {
      "cell_type": "code",
      "metadata": {
        "colab": {
          "base_uri": "https://localhost:8080/"
        },
        "id": "NV779WO8BTur",
        "outputId": "7245c768-7ea5-4322-edd0-aa7954d67838"
      },
      "source": [
        "new_df2.info()"
      ],
      "execution_count": null,
      "outputs": [
        {
          "output_type": "stream",
          "name": "stdout",
          "text": [
            "<class 'pandas.core.frame.DataFrame'>\n",
            "Int64Index: 37173 entries, 0 to 53882\n",
            "Data columns (total 11 columns):\n",
            " #   Column         Non-Null Count  Dtype  \n",
            "---  ------         --------------  -----  \n",
            " 0   Location       37173 non-null  object \n",
            " 1   Price          37173 non-null  object \n",
            " 2   Rooms          37173 non-null  object \n",
            " 3   Bathrooms      37173 non-null  object \n",
            " 4   Car Parks      37173 non-null  object \n",
            " 5   Property Type  37173 non-null  object \n",
            " 6   Size_Type      37173 non-null  object \n",
            " 7   Size           37173 non-null  float64\n",
            " 8   Furnishing     37173 non-null  object \n",
            " 9   Rooms_Num      37173 non-null  int64  \n",
            " 10  Price_non_RM   37173 non-null  int64  \n",
            "dtypes: float64(1), int64(2), object(8)\n",
            "memory usage: 3.4+ MB\n"
          ]
        }
      ]
    },
    {
      "cell_type": "code",
      "metadata": {
        "colab": {
          "base_uri": "https://localhost:8080/"
        },
        "id": "aUnXQXbu9do1",
        "outputId": "ed3cf016-a8e7-4963-bd02-30ad4bd3e970"
      },
      "source": [
        "Q1 = new_df2[['Rooms_Num']].quantile(0.25)\n",
        "Q3 = new_df2[['Rooms_Num']].quantile(0.75)\n",
        "\n",
        "IQR = Q3 - Q1\n",
        "boxplot_min = Q1 - 1.5 * IQR\n",
        "boxplot_max = Q3 + 1.5 * IQR\n",
        "print('Q1:\\n',Q1)\n",
        "print('\\nQ3:\\n',Q3)\n",
        "print('\\nIQR:\\n',IQR)\n",
        "print('\\nMin:\\n',boxplot_min)\n",
        "print('\\nMax:\\n',boxplot_max)"
      ],
      "execution_count": null,
      "outputs": [
        {
          "output_type": "stream",
          "name": "stdout",
          "text": [
            "Q1:\n",
            " Rooms_Num    3.0\n",
            "Name: 0.25, dtype: float64\n",
            "\n",
            "Q3:\n",
            " Rooms_Num    4.0\n",
            "Name: 0.75, dtype: float64\n",
            "\n",
            "IQR:\n",
            " Rooms_Num    1.0\n",
            "dtype: float64\n",
            "\n",
            "Min:\n",
            " Rooms_Num    1.5\n",
            "dtype: float64\n",
            "\n",
            "Max:\n",
            " Rooms_Num    5.5\n",
            "dtype: float64\n"
          ]
        }
      ]
    },
    {
      "cell_type": "code",
      "metadata": {
        "colab": {
          "base_uri": "https://localhost:8080/",
          "height": 424
        },
        "id": "ZHZ2uEUsB1da",
        "outputId": "dcc57d04-57a9-44b9-de68-1dcbe96b2e28"
      },
      "source": [
        "Rooms_Num_min = new_df2['Rooms_Num']<1.5\n",
        "Rooms_Num_max = new_df2['Rooms_Num']>5.5\n",
        "\n",
        "new_df3 = new_df2[~\n",
        "    (Rooms_Num_min|Rooms_Num_max)\n",
        "    ]\n",
        "\n",
        "new_df3[['Rooms_Num']]"
      ],
      "execution_count": null,
      "outputs": [
        {
          "output_type": "execute_result",
          "data": {
            "text/html": [
              "<div>\n",
              "<style scoped>\n",
              "    .dataframe tbody tr th:only-of-type {\n",
              "        vertical-align: middle;\n",
              "    }\n",
              "\n",
              "    .dataframe tbody tr th {\n",
              "        vertical-align: top;\n",
              "    }\n",
              "\n",
              "    .dataframe thead th {\n",
              "        text-align: right;\n",
              "    }\n",
              "</style>\n",
              "<table border=\"1\" class=\"dataframe\">\n",
              "  <thead>\n",
              "    <tr style=\"text-align: right;\">\n",
              "      <th></th>\n",
              "      <th>Rooms_Num</th>\n",
              "    </tr>\n",
              "  </thead>\n",
              "  <tbody>\n",
              "    <tr>\n",
              "      <th>0</th>\n",
              "      <td>3</td>\n",
              "    </tr>\n",
              "    <tr>\n",
              "      <th>2</th>\n",
              "      <td>3</td>\n",
              "    </tr>\n",
              "    <tr>\n",
              "      <th>4</th>\n",
              "      <td>5</td>\n",
              "    </tr>\n",
              "    <tr>\n",
              "      <th>8</th>\n",
              "      <td>5</td>\n",
              "    </tr>\n",
              "    <tr>\n",
              "      <th>9</th>\n",
              "      <td>3</td>\n",
              "    </tr>\n",
              "    <tr>\n",
              "      <th>...</th>\n",
              "      <td>...</td>\n",
              "    </tr>\n",
              "    <tr>\n",
              "      <th>53873</th>\n",
              "      <td>3</td>\n",
              "    </tr>\n",
              "    <tr>\n",
              "      <th>53874</th>\n",
              "      <td>3</td>\n",
              "    </tr>\n",
              "    <tr>\n",
              "      <th>53875</th>\n",
              "      <td>3</td>\n",
              "    </tr>\n",
              "    <tr>\n",
              "      <th>53881</th>\n",
              "      <td>3</td>\n",
              "    </tr>\n",
              "    <tr>\n",
              "      <th>53882</th>\n",
              "      <td>4</td>\n",
              "    </tr>\n",
              "  </tbody>\n",
              "</table>\n",
              "<p>33109 rows × 1 columns</p>\n",
              "</div>"
            ],
            "text/plain": [
              "       Rooms_Num\n",
              "0              3\n",
              "2              3\n",
              "4              5\n",
              "8              5\n",
              "9              3\n",
              "...          ...\n",
              "53873          3\n",
              "53874          3\n",
              "53875          3\n",
              "53881          3\n",
              "53882          4\n",
              "\n",
              "[33109 rows x 1 columns]"
            ]
          },
          "metadata": {},
          "execution_count": 34
        }
      ]
    },
    {
      "cell_type": "code",
      "metadata": {
        "colab": {
          "base_uri": "https://localhost:8080/"
        },
        "id": "GdAM4zeaCPlA",
        "outputId": "5e06ddbd-39e8-44a3-eb76-135555a9992f"
      },
      "source": [
        "new_df3.info()"
      ],
      "execution_count": null,
      "outputs": [
        {
          "output_type": "stream",
          "name": "stdout",
          "text": [
            "<class 'pandas.core.frame.DataFrame'>\n",
            "Int64Index: 33109 entries, 0 to 53882\n",
            "Data columns (total 11 columns):\n",
            " #   Column         Non-Null Count  Dtype  \n",
            "---  ------         --------------  -----  \n",
            " 0   Location       33109 non-null  object \n",
            " 1   Price          33109 non-null  object \n",
            " 2   Rooms          33109 non-null  object \n",
            " 3   Bathrooms      33109 non-null  object \n",
            " 4   Car Parks      33109 non-null  object \n",
            " 5   Property Type  33109 non-null  object \n",
            " 6   Size_Type      33109 non-null  object \n",
            " 7   Size           33109 non-null  float64\n",
            " 8   Furnishing     33109 non-null  object \n",
            " 9   Rooms_Num      33109 non-null  int64  \n",
            " 10  Price_non_RM   33109 non-null  int64  \n",
            "dtypes: float64(1), int64(2), object(8)\n",
            "memory usage: 3.0+ MB\n"
          ]
        }
      ]
    },
    {
      "cell_type": "code",
      "metadata": {
        "id": "xTOO09f8-DpM",
        "colab": {
          "base_uri": "https://localhost:8080/"
        },
        "outputId": "041666f7-d2d6-4878-d849-6b9ac1319903"
      },
      "source": [
        "new_df3['Bathrooms']=new_df3['Bathrooms'].astype(int)"
      ],
      "execution_count": null,
      "outputs": [
        {
          "output_type": "stream",
          "name": "stderr",
          "text": [
            "/usr/local/lib/python3.7/dist-packages/ipykernel_launcher.py:1: SettingWithCopyWarning: \n",
            "A value is trying to be set on a copy of a slice from a DataFrame.\n",
            "Try using .loc[row_indexer,col_indexer] = value instead\n",
            "\n",
            "See the caveats in the documentation: https://pandas.pydata.org/pandas-docs/stable/user_guide/indexing.html#returning-a-view-versus-a-copy\n",
            "  \"\"\"Entry point for launching an IPython kernel.\n"
          ]
        }
      ]
    },
    {
      "cell_type": "code",
      "metadata": {
        "colab": {
          "base_uri": "https://localhost:8080/"
        },
        "id": "_tHVqiCP9uW8",
        "outputId": "b02cb1bb-0ce0-4c8c-ca6f-188af1b8f51d"
      },
      "source": [
        "Q1 = new_df3[['Bathrooms']].quantile(0.25)\n",
        "Q3 = new_df3[['Bathrooms']].quantile(0.75)\n",
        "\n",
        "IQR = Q3 - Q1\n",
        "boxplot_min = Q1 - 1.5 * IQR\n",
        "boxplot_max = Q3 + 1.5 * IQR\n",
        "print('Q1:\\n',Q1)\n",
        "print('\\nQ3:\\n',Q3)\n",
        "print('\\nIQR:\\n',IQR)\n",
        "print('\\nMin:\\n',boxplot_min)\n",
        "print('\\nMax:\\n',boxplot_max)"
      ],
      "execution_count": null,
      "outputs": [
        {
          "output_type": "stream",
          "name": "stdout",
          "text": [
            "Q1:\n",
            " Bathrooms    2.0\n",
            "Name: 0.25, dtype: float64\n",
            "\n",
            "Q3:\n",
            " Bathrooms    3.0\n",
            "Name: 0.75, dtype: float64\n",
            "\n",
            "IQR:\n",
            " Bathrooms    1.0\n",
            "dtype: float64\n",
            "\n",
            "Min:\n",
            " Bathrooms    0.5\n",
            "dtype: float64\n",
            "\n",
            "Max:\n",
            " Bathrooms    4.5\n",
            "dtype: float64\n"
          ]
        }
      ]
    },
    {
      "cell_type": "code",
      "metadata": {
        "colab": {
          "base_uri": "https://localhost:8080/",
          "height": 424
        },
        "id": "EXwZRzTxC9wQ",
        "outputId": "4e695912-e421-48f8-b05e-b3abd3dbe667"
      },
      "source": [
        "Bathrooms_min = new_df3['Bathrooms']<0.5\n",
        "Bathrooms_max = new_df3['Bathrooms']>4.5\n",
        "\n",
        "new_df4 = new_df3[~\n",
        "    (Bathrooms_min|Bathrooms_max)\n",
        "    ]\n",
        "\n",
        "new_df4[['Bathrooms']]"
      ],
      "execution_count": null,
      "outputs": [
        {
          "output_type": "execute_result",
          "data": {
            "text/html": [
              "<div>\n",
              "<style scoped>\n",
              "    .dataframe tbody tr th:only-of-type {\n",
              "        vertical-align: middle;\n",
              "    }\n",
              "\n",
              "    .dataframe tbody tr th {\n",
              "        vertical-align: top;\n",
              "    }\n",
              "\n",
              "    .dataframe thead th {\n",
              "        text-align: right;\n",
              "    }\n",
              "</style>\n",
              "<table border=\"1\" class=\"dataframe\">\n",
              "  <thead>\n",
              "    <tr style=\"text-align: right;\">\n",
              "      <th></th>\n",
              "      <th>Bathrooms</th>\n",
              "    </tr>\n",
              "  </thead>\n",
              "  <tbody>\n",
              "    <tr>\n",
              "      <th>0</th>\n",
              "      <td>3</td>\n",
              "    </tr>\n",
              "    <tr>\n",
              "      <th>2</th>\n",
              "      <td>4</td>\n",
              "    </tr>\n",
              "    <tr>\n",
              "      <th>4</th>\n",
              "      <td>3</td>\n",
              "    </tr>\n",
              "    <tr>\n",
              "      <th>8</th>\n",
              "      <td>4</td>\n",
              "    </tr>\n",
              "    <tr>\n",
              "      <th>9</th>\n",
              "      <td>2</td>\n",
              "    </tr>\n",
              "    <tr>\n",
              "      <th>...</th>\n",
              "      <td>...</td>\n",
              "    </tr>\n",
              "    <tr>\n",
              "      <th>53873</th>\n",
              "      <td>2</td>\n",
              "    </tr>\n",
              "    <tr>\n",
              "      <th>53874</th>\n",
              "      <td>2</td>\n",
              "    </tr>\n",
              "    <tr>\n",
              "      <th>53875</th>\n",
              "      <td>2</td>\n",
              "    </tr>\n",
              "    <tr>\n",
              "      <th>53881</th>\n",
              "      <td>2</td>\n",
              "    </tr>\n",
              "    <tr>\n",
              "      <th>53882</th>\n",
              "      <td>2</td>\n",
              "    </tr>\n",
              "  </tbody>\n",
              "</table>\n",
              "<p>31224 rows × 1 columns</p>\n",
              "</div>"
            ],
            "text/plain": [
              "       Bathrooms\n",
              "0              3\n",
              "2              4\n",
              "4              3\n",
              "8              4\n",
              "9              2\n",
              "...          ...\n",
              "53873          2\n",
              "53874          2\n",
              "53875          2\n",
              "53881          2\n",
              "53882          2\n",
              "\n",
              "[31224 rows x 1 columns]"
            ]
          },
          "metadata": {},
          "execution_count": 38
        }
      ]
    },
    {
      "cell_type": "code",
      "metadata": {
        "colab": {
          "base_uri": "https://localhost:8080/"
        },
        "id": "QycecsdfEttL",
        "outputId": "cb858d21-1a91-4948-d5d1-f75714696a2a"
      },
      "source": [
        "new_df4.info()"
      ],
      "execution_count": null,
      "outputs": [
        {
          "output_type": "stream",
          "name": "stdout",
          "text": [
            "<class 'pandas.core.frame.DataFrame'>\n",
            "Int64Index: 31224 entries, 0 to 53882\n",
            "Data columns (total 11 columns):\n",
            " #   Column         Non-Null Count  Dtype  \n",
            "---  ------         --------------  -----  \n",
            " 0   Location       31224 non-null  object \n",
            " 1   Price          31224 non-null  object \n",
            " 2   Rooms          31224 non-null  object \n",
            " 3   Bathrooms      31224 non-null  int64  \n",
            " 4   Car Parks      31224 non-null  object \n",
            " 5   Property Type  31224 non-null  object \n",
            " 6   Size_Type      31224 non-null  object \n",
            " 7   Size           31224 non-null  float64\n",
            " 8   Furnishing     31224 non-null  object \n",
            " 9   Rooms_Num      31224 non-null  int64  \n",
            " 10  Price_non_RM   31224 non-null  int64  \n",
            "dtypes: float64(1), int64(3), object(7)\n",
            "memory usage: 2.9+ MB\n"
          ]
        }
      ]
    },
    {
      "cell_type": "code",
      "metadata": {
        "id": "Slpd77rg950Q",
        "colab": {
          "base_uri": "https://localhost:8080/"
        },
        "outputId": "1bae25f0-8868-4c56-8171-20eac1dcdfc2"
      },
      "source": [
        "new_df4['Car Parks']=new_df4['Car Parks'].astype(int)"
      ],
      "execution_count": null,
      "outputs": [
        {
          "output_type": "stream",
          "name": "stderr",
          "text": [
            "/usr/local/lib/python3.7/dist-packages/ipykernel_launcher.py:1: SettingWithCopyWarning: \n",
            "A value is trying to be set on a copy of a slice from a DataFrame.\n",
            "Try using .loc[row_indexer,col_indexer] = value instead\n",
            "\n",
            "See the caveats in the documentation: https://pandas.pydata.org/pandas-docs/stable/user_guide/indexing.html#returning-a-view-versus-a-copy\n",
            "  \"\"\"Entry point for launching an IPython kernel.\n"
          ]
        }
      ]
    },
    {
      "cell_type": "code",
      "metadata": {
        "colab": {
          "base_uri": "https://localhost:8080/"
        },
        "id": "PvV9WwmC9xgm",
        "outputId": "35a9ae44-aa03-4eb4-8b37-e80e5996d541"
      },
      "source": [
        "Q1 = new_df4[['Car Parks']].quantile(0.25)\n",
        "Q3 = new_df4[['Car Parks']].quantile(0.75)\n",
        "\n",
        "IQR = Q3 - Q1\n",
        "boxplot_min = Q1 - 1.5 * IQR\n",
        "boxplot_max = Q3 + 1.5 * IQR\n",
        "print('Q1:\\n',Q1)\n",
        "print('\\nQ3:\\n',Q3)\n",
        "print('\\nIQR:\\n',IQR)\n",
        "print('\\nMin:\\n',boxplot_min)\n",
        "print('\\nMax:\\n',boxplot_max)"
      ],
      "execution_count": null,
      "outputs": [
        {
          "output_type": "stream",
          "name": "stdout",
          "text": [
            "Q1:\n",
            " Car Parks    1.0\n",
            "Name: 0.25, dtype: float64\n",
            "\n",
            "Q3:\n",
            " Car Parks    2.0\n",
            "Name: 0.75, dtype: float64\n",
            "\n",
            "IQR:\n",
            " Car Parks    1.0\n",
            "dtype: float64\n",
            "\n",
            "Min:\n",
            " Car Parks   -0.5\n",
            "dtype: float64\n",
            "\n",
            "Max:\n",
            " Car Parks    3.5\n",
            "dtype: float64\n"
          ]
        }
      ]
    },
    {
      "cell_type": "code",
      "metadata": {
        "colab": {
          "base_uri": "https://localhost:8080/",
          "height": 424
        },
        "id": "cjBfwK69FTRa",
        "outputId": "2eb93150-7bce-45cd-8697-53cae6d2f9ac"
      },
      "source": [
        "Car_Parks_min = new_df4['Car Parks']<-3\n",
        "Car_Parks_max = new_df4['Car Parks']>5\n",
        "\n",
        "df_clean = new_df4[~\n",
        "    (Car_Parks_min|Car_Parks_max)\n",
        "    ]\n",
        "df_clean[['Car Parks']]"
      ],
      "execution_count": null,
      "outputs": [
        {
          "output_type": "execute_result",
          "data": {
            "text/html": [
              "<div>\n",
              "<style scoped>\n",
              "    .dataframe tbody tr th:only-of-type {\n",
              "        vertical-align: middle;\n",
              "    }\n",
              "\n",
              "    .dataframe tbody tr th {\n",
              "        vertical-align: top;\n",
              "    }\n",
              "\n",
              "    .dataframe thead th {\n",
              "        text-align: right;\n",
              "    }\n",
              "</style>\n",
              "<table border=\"1\" class=\"dataframe\">\n",
              "  <thead>\n",
              "    <tr style=\"text-align: right;\">\n",
              "      <th></th>\n",
              "      <th>Car Parks</th>\n",
              "    </tr>\n",
              "  </thead>\n",
              "  <tbody>\n",
              "    <tr>\n",
              "      <th>0</th>\n",
              "      <td>2</td>\n",
              "    </tr>\n",
              "    <tr>\n",
              "      <th>2</th>\n",
              "      <td>2</td>\n",
              "    </tr>\n",
              "    <tr>\n",
              "      <th>4</th>\n",
              "      <td>2</td>\n",
              "    </tr>\n",
              "    <tr>\n",
              "      <th>8</th>\n",
              "      <td>3</td>\n",
              "    </tr>\n",
              "    <tr>\n",
              "      <th>9</th>\n",
              "      <td>1</td>\n",
              "    </tr>\n",
              "    <tr>\n",
              "      <th>...</th>\n",
              "      <td>...</td>\n",
              "    </tr>\n",
              "    <tr>\n",
              "      <th>53873</th>\n",
              "      <td>0</td>\n",
              "    </tr>\n",
              "    <tr>\n",
              "      <th>53874</th>\n",
              "      <td>0</td>\n",
              "    </tr>\n",
              "    <tr>\n",
              "      <th>53875</th>\n",
              "      <td>0</td>\n",
              "    </tr>\n",
              "    <tr>\n",
              "      <th>53881</th>\n",
              "      <td>0</td>\n",
              "    </tr>\n",
              "    <tr>\n",
              "      <th>53882</th>\n",
              "      <td>3</td>\n",
              "    </tr>\n",
              "  </tbody>\n",
              "</table>\n",
              "<p>31178 rows × 1 columns</p>\n",
              "</div>"
            ],
            "text/plain": [
              "       Car Parks\n",
              "0              2\n",
              "2              2\n",
              "4              2\n",
              "8              3\n",
              "9              1\n",
              "...          ...\n",
              "53873          0\n",
              "53874          0\n",
              "53875          0\n",
              "53881          0\n",
              "53882          3\n",
              "\n",
              "[31178 rows x 1 columns]"
            ]
          },
          "metadata": {},
          "execution_count": 42
        }
      ]
    },
    {
      "cell_type": "code",
      "metadata": {
        "colab": {
          "base_uri": "https://localhost:8080/",
          "height": 365
        },
        "id": "RNzawjOiGEOi",
        "outputId": "a364d723-3c26-4614-8a31-779ff4e619d9"
      },
      "source": [
        "df_clean.head()"
      ],
      "execution_count": null,
      "outputs": [
        {
          "output_type": "execute_result",
          "data": {
            "text/html": [
              "<div>\n",
              "<style scoped>\n",
              "    .dataframe tbody tr th:only-of-type {\n",
              "        vertical-align: middle;\n",
              "    }\n",
              "\n",
              "    .dataframe tbody tr th {\n",
              "        vertical-align: top;\n",
              "    }\n",
              "\n",
              "    .dataframe thead th {\n",
              "        text-align: right;\n",
              "    }\n",
              "</style>\n",
              "<table border=\"1\" class=\"dataframe\">\n",
              "  <thead>\n",
              "    <tr style=\"text-align: right;\">\n",
              "      <th></th>\n",
              "      <th>Location</th>\n",
              "      <th>Price</th>\n",
              "      <th>Rooms</th>\n",
              "      <th>Bathrooms</th>\n",
              "      <th>Car Parks</th>\n",
              "      <th>Property Type</th>\n",
              "      <th>Size_Type</th>\n",
              "      <th>Size</th>\n",
              "      <th>Furnishing</th>\n",
              "      <th>Rooms_Num</th>\n",
              "      <th>Price_non_RM</th>\n",
              "    </tr>\n",
              "  </thead>\n",
              "  <tbody>\n",
              "    <tr>\n",
              "      <th>0</th>\n",
              "      <td>klcc</td>\n",
              "      <td>RM 1,250,000</td>\n",
              "      <td>2+1</td>\n",
              "      <td>3</td>\n",
              "      <td>2</td>\n",
              "      <td>Serviced Residence</td>\n",
              "      <td>Built-up</td>\n",
              "      <td>1335.0</td>\n",
              "      <td>Fully Furnished</td>\n",
              "      <td>3</td>\n",
              "      <td>1250000</td>\n",
              "    </tr>\n",
              "    <tr>\n",
              "      <th>2</th>\n",
              "      <td>dutamas</td>\n",
              "      <td>RM 1,030,000</td>\n",
              "      <td>3</td>\n",
              "      <td>4</td>\n",
              "      <td>2</td>\n",
              "      <td>Condominium (Corner)</td>\n",
              "      <td>Built-up</td>\n",
              "      <td>1875.0</td>\n",
              "      <td>Partly Furnished</td>\n",
              "      <td>3</td>\n",
              "      <td>1030000</td>\n",
              "    </tr>\n",
              "    <tr>\n",
              "      <th>4</th>\n",
              "      <td>bukit jalil</td>\n",
              "      <td>RM 900,000</td>\n",
              "      <td>4+1</td>\n",
              "      <td>3</td>\n",
              "      <td>2</td>\n",
              "      <td>Condominium (Corner)</td>\n",
              "      <td>Built-up</td>\n",
              "      <td>1513.0</td>\n",
              "      <td>Partly Furnished</td>\n",
              "      <td>5</td>\n",
              "      <td>900000</td>\n",
              "    </tr>\n",
              "    <tr>\n",
              "      <th>8</th>\n",
              "      <td>taman tun dr ismail</td>\n",
              "      <td>RM 1,950,000</td>\n",
              "      <td>4+1</td>\n",
              "      <td>4</td>\n",
              "      <td>3</td>\n",
              "      <td>2-sty Terrace/Link House (EndLot)</td>\n",
              "      <td>Land area</td>\n",
              "      <td>1875.0</td>\n",
              "      <td>Partly Furnished</td>\n",
              "      <td>5</td>\n",
              "      <td>1950000</td>\n",
              "    </tr>\n",
              "    <tr>\n",
              "      <th>9</th>\n",
              "      <td>sri petaling</td>\n",
              "      <td>RM 385,000</td>\n",
              "      <td>3</td>\n",
              "      <td>2</td>\n",
              "      <td>1</td>\n",
              "      <td>Apartment (Intermediate)</td>\n",
              "      <td>Built-up</td>\n",
              "      <td>904.0</td>\n",
              "      <td>Partly Furnished</td>\n",
              "      <td>3</td>\n",
              "      <td>385000</td>\n",
              "    </tr>\n",
              "  </tbody>\n",
              "</table>\n",
              "</div>"
            ],
            "text/plain": [
              "              Location         Price  ... Rooms_Num  Price_non_RM\n",
              "0                 klcc  RM 1,250,000  ...         3       1250000\n",
              "2              dutamas  RM 1,030,000  ...         3       1030000\n",
              "4          bukit jalil    RM 900,000  ...         5        900000\n",
              "8  taman tun dr ismail  RM 1,950,000  ...         5       1950000\n",
              "9         sri petaling    RM 385,000  ...         3        385000\n",
              "\n",
              "[5 rows x 11 columns]"
            ]
          },
          "metadata": {},
          "execution_count": 43
        }
      ]
    },
    {
      "cell_type": "code",
      "metadata": {
        "colab": {
          "base_uri": "https://localhost:8080/"
        },
        "id": "rEs3CwTxGJBz",
        "outputId": "902b1f78-5bf8-49a5-8f04-bd08a317ed68"
      },
      "source": [
        "df_clean.info()"
      ],
      "execution_count": null,
      "outputs": [
        {
          "output_type": "stream",
          "name": "stdout",
          "text": [
            "<class 'pandas.core.frame.DataFrame'>\n",
            "Int64Index: 31178 entries, 0 to 53882\n",
            "Data columns (total 11 columns):\n",
            " #   Column         Non-Null Count  Dtype  \n",
            "---  ------         --------------  -----  \n",
            " 0   Location       31178 non-null  object \n",
            " 1   Price          31178 non-null  object \n",
            " 2   Rooms          31178 non-null  object \n",
            " 3   Bathrooms      31178 non-null  int64  \n",
            " 4   Car Parks      31178 non-null  int64  \n",
            " 5   Property Type  31178 non-null  object \n",
            " 6   Size_Type      31178 non-null  object \n",
            " 7   Size           31178 non-null  float64\n",
            " 8   Furnishing     31178 non-null  object \n",
            " 9   Rooms_Num      31178 non-null  int64  \n",
            " 10  Price_non_RM   31178 non-null  int64  \n",
            "dtypes: float64(1), int64(4), object(6)\n",
            "memory usage: 2.9+ MB\n"
          ]
        }
      ]
    },
    {
      "cell_type": "markdown",
      "metadata": {
        "id": "Q4hDBYOupIA5"
      },
      "source": [
        "# Handling Duplicates Value"
      ]
    },
    {
      "cell_type": "code",
      "metadata": {
        "id": "e_Kn4llhpYFE",
        "colab": {
          "base_uri": "https://localhost:8080/",
          "height": 166
        },
        "outputId": "27b95802-af5c-4065-f545-07f9632dd518"
      },
      "source": [
        "df_non_null[df_non_null['Size'].duplicated()]"
      ],
      "execution_count": null,
      "outputs": [
        {
          "output_type": "error",
          "ename": "NameError",
          "evalue": "ignored",
          "traceback": [
            "\u001b[0;31m---------------------------------------------------------------------------\u001b[0m",
            "\u001b[0;31mNameError\u001b[0m                                 Traceback (most recent call last)",
            "\u001b[0;32m<ipython-input-45-9da4900a250e>\u001b[0m in \u001b[0;36m<module>\u001b[0;34m()\u001b[0m\n\u001b[0;32m----> 1\u001b[0;31m \u001b[0mdf_non_null\u001b[0m\u001b[0;34m[\u001b[0m\u001b[0mdf_non_null\u001b[0m\u001b[0;34m[\u001b[0m\u001b[0;34m'Size'\u001b[0m\u001b[0;34m]\u001b[0m\u001b[0;34m.\u001b[0m\u001b[0mduplicated\u001b[0m\u001b[0;34m(\u001b[0m\u001b[0;34m)\u001b[0m\u001b[0;34m]\u001b[0m\u001b[0;34m\u001b[0m\u001b[0;34m\u001b[0m\u001b[0m\n\u001b[0m",
            "\u001b[0;31mNameError\u001b[0m: name 'df_non_null' is not defined"
          ]
        }
      ]
    },
    {
      "cell_type": "code",
      "metadata": {
        "id": "xeER0xw1qZIs"
      },
      "source": [
        "len (df_non_null)"
      ],
      "execution_count": null,
      "outputs": []
    },
    {
      "cell_type": "code",
      "metadata": {
        "id": "1ylcaZT9qku4"
      },
      "source": [
        "df_dup = df_non_null.drop_duplicates(['Size'])\n",
        "df_dup\n"
      ],
      "execution_count": null,
      "outputs": []
    },
    {
      "cell_type": "code",
      "metadata": {
        "id": "7BOjg5ovqvnW"
      },
      "source": [
        "len (df_dup)"
      ],
      "execution_count": null,
      "outputs": []
    },
    {
      "cell_type": "markdown",
      "metadata": {
        "id": "RzJDO7eeGq1h"
      },
      "source": [
        "# Check & Explain Desc. Statistics"
      ]
    },
    {
      "cell_type": "code",
      "metadata": {
        "colab": {
          "base_uri": "https://localhost:8080/",
          "height": 300
        },
        "id": "hYcZM2y2H_-7",
        "outputId": "8f08addd-809a-4ac8-b6a4-7031e2abe561"
      },
      "source": [
        "# EDA Price\n",
        "desc = df_clean['Price_non_RM'].describe().map('{:.2f}'.format)\n",
        "desc = pd.DataFrame(desc)\n",
        "desc"
      ],
      "execution_count": null,
      "outputs": [
        {
          "output_type": "execute_result",
          "data": {
            "text/html": [
              "<div>\n",
              "<style scoped>\n",
              "    .dataframe tbody tr th:only-of-type {\n",
              "        vertical-align: middle;\n",
              "    }\n",
              "\n",
              "    .dataframe tbody tr th {\n",
              "        vertical-align: top;\n",
              "    }\n",
              "\n",
              "    .dataframe thead th {\n",
              "        text-align: right;\n",
              "    }\n",
              "</style>\n",
              "<table border=\"1\" class=\"dataframe\">\n",
              "  <thead>\n",
              "    <tr style=\"text-align: right;\">\n",
              "      <th></th>\n",
              "      <th>Price_non_RM</th>\n",
              "    </tr>\n",
              "  </thead>\n",
              "  <tbody>\n",
              "    <tr>\n",
              "      <th>count</th>\n",
              "      <td>31178.00</td>\n",
              "    </tr>\n",
              "    <tr>\n",
              "      <th>mean</th>\n",
              "      <td>956514.59</td>\n",
              "    </tr>\n",
              "    <tr>\n",
              "      <th>std</th>\n",
              "      <td>605552.93</td>\n",
              "    </tr>\n",
              "    <tr>\n",
              "      <th>min</th>\n",
              "      <td>308.00</td>\n",
              "    </tr>\n",
              "    <tr>\n",
              "      <th>25%</th>\n",
              "      <td>529000.00</td>\n",
              "    </tr>\n",
              "    <tr>\n",
              "      <th>50%</th>\n",
              "      <td>765000.00</td>\n",
              "    </tr>\n",
              "    <tr>\n",
              "      <th>75%</th>\n",
              "      <td>1250000.00</td>\n",
              "    </tr>\n",
              "    <tr>\n",
              "      <th>max</th>\n",
              "      <td>3930000.00</td>\n",
              "    </tr>\n",
              "  </tbody>\n",
              "</table>\n",
              "</div>"
            ],
            "text/plain": [
              "      Price_non_RM\n",
              "count     31178.00\n",
              "mean     956514.59\n",
              "std      605552.93\n",
              "min         308.00\n",
              "25%      529000.00\n",
              "50%      765000.00\n",
              "75%     1250000.00\n",
              "max     3930000.00"
            ]
          },
          "metadata": {},
          "execution_count": 46
        }
      ]
    },
    {
      "cell_type": "code",
      "metadata": {
        "id": "DIc0-yuF9npF"
      },
      "source": [
        "price_mode = df_clean['Price_non_RM'].mode()\n",
        "price_range = df_clean['Price_non_RM'].max() - df_clean['Price_non_RM'].min()\n",
        "price_var = df_clean['Price_non_RM'].var()\n",
        "price_kurt = df_clean['Price_non_RM'].kurt()\n",
        "price_skew = df_clean['Price_non_RM'].skew()\n",
        "price_coef = df_clean['Price_non_RM'].std() / df_clean['Price_non_RM'].mean()"
      ],
      "execution_count": null,
      "outputs": []
    },
    {
      "cell_type": "code",
      "metadata": {
        "colab": {
          "base_uri": "https://localhost:8080/",
          "height": 292
        },
        "id": "Lv0JAZij-OKf",
        "outputId": "23126e48-2b95-435c-fd78-32842fe1d901"
      },
      "source": [
        "desc_stats_array_price = np.array([price_mode,price_range,price_var,price_kurt,price_skew,price_coef])\n",
        "desc_stats_series_price = pd.Series(desc_stats_array_price, index = ['mode','range','var','kurt','skew','Coeff'])\n",
        "desc_stats_price = pd.DataFrame(desc_stats_series_price)\n",
        "desc_stats_price.rename(columns={0: 'Price_non_RM'}, inplace=True)\n",
        "desc_stats_price"
      ],
      "execution_count": null,
      "outputs": [
        {
          "output_type": "stream",
          "name": "stderr",
          "text": [
            "/usr/local/lib/python3.7/dist-packages/ipykernel_launcher.py:1: VisibleDeprecationWarning: Creating an ndarray from ragged nested sequences (which is a list-or-tuple of lists-or-tuples-or ndarrays with different lengths or shapes) is deprecated. If you meant to do this, you must specify 'dtype=object' when creating the ndarray\n",
            "  \"\"\"Entry point for launching an IPython kernel.\n"
          ]
        },
        {
          "output_type": "execute_result",
          "data": {
            "text/html": [
              "<div>\n",
              "<style scoped>\n",
              "    .dataframe tbody tr th:only-of-type {\n",
              "        vertical-align: middle;\n",
              "    }\n",
              "\n",
              "    .dataframe tbody tr th {\n",
              "        vertical-align: top;\n",
              "    }\n",
              "\n",
              "    .dataframe thead th {\n",
              "        text-align: right;\n",
              "    }\n",
              "</style>\n",
              "<table border=\"1\" class=\"dataframe\">\n",
              "  <thead>\n",
              "    <tr style=\"text-align: right;\">\n",
              "      <th></th>\n",
              "      <th>Price_non_RM</th>\n",
              "    </tr>\n",
              "  </thead>\n",
              "  <tbody>\n",
              "    <tr>\n",
              "      <th>mode</th>\n",
              "      <td>0    1200000\n",
              "dtype: int64</td>\n",
              "    </tr>\n",
              "    <tr>\n",
              "      <th>range</th>\n",
              "      <td>3929692</td>\n",
              "    </tr>\n",
              "    <tr>\n",
              "      <th>var</th>\n",
              "      <td>3.66694e+11</td>\n",
              "    </tr>\n",
              "    <tr>\n",
              "      <th>kurt</th>\n",
              "      <td>2.69828</td>\n",
              "    </tr>\n",
              "    <tr>\n",
              "      <th>skew</th>\n",
              "      <td>1.50008</td>\n",
              "    </tr>\n",
              "    <tr>\n",
              "      <th>Coeff</th>\n",
              "      <td>0.633083</td>\n",
              "    </tr>\n",
              "  </tbody>\n",
              "</table>\n",
              "</div>"
            ],
            "text/plain": [
              "                    Price_non_RM\n",
              "mode   0    1200000\n",
              "dtype: int64\n",
              "range                    3929692\n",
              "var                  3.66694e+11\n",
              "kurt                     2.69828\n",
              "skew                     1.50008\n",
              "Coeff                   0.633083"
            ]
          },
          "metadata": {},
          "execution_count": 48
        }
      ]
    },
    {
      "cell_type": "code",
      "metadata": {
        "colab": {
          "base_uri": "https://localhost:8080/",
          "height": 300
        },
        "id": "ONcYR3yTTcok",
        "outputId": "ca5b22d8-bcf4-4031-87bb-1f626cf7fa91"
      },
      "source": [
        "# EDA Rooms Number\n",
        "desc = df_clean['Rooms_Num'].describe().map('{:.2f}'.format)\n",
        "desc = pd.DataFrame(desc)\n",
        "desc"
      ],
      "execution_count": null,
      "outputs": [
        {
          "output_type": "execute_result",
          "data": {
            "text/html": [
              "<div>\n",
              "<style scoped>\n",
              "    .dataframe tbody tr th:only-of-type {\n",
              "        vertical-align: middle;\n",
              "    }\n",
              "\n",
              "    .dataframe tbody tr th {\n",
              "        vertical-align: top;\n",
              "    }\n",
              "\n",
              "    .dataframe thead th {\n",
              "        text-align: right;\n",
              "    }\n",
              "</style>\n",
              "<table border=\"1\" class=\"dataframe\">\n",
              "  <thead>\n",
              "    <tr style=\"text-align: right;\">\n",
              "      <th></th>\n",
              "      <th>Rooms_Num</th>\n",
              "    </tr>\n",
              "  </thead>\n",
              "  <tbody>\n",
              "    <tr>\n",
              "      <th>count</th>\n",
              "      <td>31178.00</td>\n",
              "    </tr>\n",
              "    <tr>\n",
              "      <th>mean</th>\n",
              "      <td>3.27</td>\n",
              "    </tr>\n",
              "    <tr>\n",
              "      <th>std</th>\n",
              "      <td>0.84</td>\n",
              "    </tr>\n",
              "    <tr>\n",
              "      <th>min</th>\n",
              "      <td>2.00</td>\n",
              "    </tr>\n",
              "    <tr>\n",
              "      <th>25%</th>\n",
              "      <td>3.00</td>\n",
              "    </tr>\n",
              "    <tr>\n",
              "      <th>50%</th>\n",
              "      <td>3.00</td>\n",
              "    </tr>\n",
              "    <tr>\n",
              "      <th>75%</th>\n",
              "      <td>4.00</td>\n",
              "    </tr>\n",
              "    <tr>\n",
              "      <th>max</th>\n",
              "      <td>5.00</td>\n",
              "    </tr>\n",
              "  </tbody>\n",
              "</table>\n",
              "</div>"
            ],
            "text/plain": [
              "      Rooms_Num\n",
              "count  31178.00\n",
              "mean       3.27\n",
              "std        0.84\n",
              "min        2.00\n",
              "25%        3.00\n",
              "50%        3.00\n",
              "75%        4.00\n",
              "max        5.00"
            ]
          },
          "metadata": {},
          "execution_count": 49
        }
      ]
    },
    {
      "cell_type": "code",
      "metadata": {
        "id": "mDhqAg_x-f2b"
      },
      "source": [
        "Rooms_mode = df_clean['Rooms_Num'].mode()\n",
        "Rooms_range = df_clean['Rooms_Num'].max() - df_clean['Rooms_Num'].min()\n",
        "Rooms_var = df_clean['Rooms_Num'].var()\n",
        "Rooms_kurt = df_clean['Rooms_Num'].kurt()\n",
        "Rooms_skew = df_clean['Rooms_Num'].skew()\n",
        "Rooms_coef = df_clean['Rooms_Num'].std() / df_clean['Rooms_Num'].mean()"
      ],
      "execution_count": null,
      "outputs": []
    },
    {
      "cell_type": "code",
      "metadata": {
        "colab": {
          "base_uri": "https://localhost:8080/",
          "height": 292
        },
        "id": "AauP3Dhw-t4V",
        "outputId": "c7e57e92-83a3-42d6-aee4-b8b53e672d9b"
      },
      "source": [
        "desc_stats_array_rooms = np.array([Rooms_mode,Rooms_range,Rooms_var,Rooms_kurt,Rooms_skew,Rooms_coef])\n",
        "desc_stats_series_rooms = pd.Series(desc_stats_array_rooms, index = ['mode','range','var','kurt','skew','Coeff'])\n",
        "desc_stats_rooms = pd.DataFrame(desc_stats_series_rooms)\n",
        "desc_stats_rooms.rename(columns={0: 'Rooms_Num'}, inplace=True)\n",
        "desc_stats_rooms"
      ],
      "execution_count": null,
      "outputs": [
        {
          "output_type": "stream",
          "name": "stderr",
          "text": [
            "/usr/local/lib/python3.7/dist-packages/ipykernel_launcher.py:1: VisibleDeprecationWarning: Creating an ndarray from ragged nested sequences (which is a list-or-tuple of lists-or-tuples-or ndarrays with different lengths or shapes) is deprecated. If you meant to do this, you must specify 'dtype=object' when creating the ndarray\n",
            "  \"\"\"Entry point for launching an IPython kernel.\n"
          ]
        },
        {
          "output_type": "execute_result",
          "data": {
            "text/html": [
              "<div>\n",
              "<style scoped>\n",
              "    .dataframe tbody tr th:only-of-type {\n",
              "        vertical-align: middle;\n",
              "    }\n",
              "\n",
              "    .dataframe tbody tr th {\n",
              "        vertical-align: top;\n",
              "    }\n",
              "\n",
              "    .dataframe thead th {\n",
              "        text-align: right;\n",
              "    }\n",
              "</style>\n",
              "<table border=\"1\" class=\"dataframe\">\n",
              "  <thead>\n",
              "    <tr style=\"text-align: right;\">\n",
              "      <th></th>\n",
              "      <th>Rooms_Num</th>\n",
              "    </tr>\n",
              "  </thead>\n",
              "  <tbody>\n",
              "    <tr>\n",
              "      <th>mode</th>\n",
              "      <td>0    3\n",
              "dtype: int64</td>\n",
              "    </tr>\n",
              "    <tr>\n",
              "      <th>range</th>\n",
              "      <td>3</td>\n",
              "    </tr>\n",
              "    <tr>\n",
              "      <th>var</th>\n",
              "      <td>0.701948</td>\n",
              "    </tr>\n",
              "    <tr>\n",
              "      <th>kurt</th>\n",
              "      <td>-0.58688</td>\n",
              "    </tr>\n",
              "    <tr>\n",
              "      <th>skew</th>\n",
              "      <td>0.164628</td>\n",
              "    </tr>\n",
              "    <tr>\n",
              "      <th>Coeff</th>\n",
              "      <td>0.256065</td>\n",
              "    </tr>\n",
              "  </tbody>\n",
              "</table>\n",
              "</div>"
            ],
            "text/plain": [
              "                 Rooms_Num\n",
              "mode   0    3\n",
              "dtype: int64\n",
              "range                    3\n",
              "var               0.701948\n",
              "kurt              -0.58688\n",
              "skew              0.164628\n",
              "Coeff             0.256065"
            ]
          },
          "metadata": {},
          "execution_count": 51
        }
      ]
    },
    {
      "cell_type": "code",
      "metadata": {
        "colab": {
          "base_uri": "https://localhost:8080/",
          "height": 300
        },
        "id": "0bsmS0stUoy-",
        "outputId": "5a02bed9-e0cb-46fb-dd3e-84c5dbc5f922"
      },
      "source": [
        "# EDA Bathrooms\n",
        "desc = df_clean['Bathrooms'].describe().map('{:.2f}'.format)\n",
        "desc = pd.DataFrame(desc)\n",
        "desc"
      ],
      "execution_count": null,
      "outputs": [
        {
          "output_type": "execute_result",
          "data": {
            "text/html": [
              "<div>\n",
              "<style scoped>\n",
              "    .dataframe tbody tr th:only-of-type {\n",
              "        vertical-align: middle;\n",
              "    }\n",
              "\n",
              "    .dataframe tbody tr th {\n",
              "        vertical-align: top;\n",
              "    }\n",
              "\n",
              "    .dataframe thead th {\n",
              "        text-align: right;\n",
              "    }\n",
              "</style>\n",
              "<table border=\"1\" class=\"dataframe\">\n",
              "  <thead>\n",
              "    <tr style=\"text-align: right;\">\n",
              "      <th></th>\n",
              "      <th>Bathrooms</th>\n",
              "    </tr>\n",
              "  </thead>\n",
              "  <tbody>\n",
              "    <tr>\n",
              "      <th>count</th>\n",
              "      <td>31178.00</td>\n",
              "    </tr>\n",
              "    <tr>\n",
              "      <th>mean</th>\n",
              "      <td>2.47</td>\n",
              "    </tr>\n",
              "    <tr>\n",
              "      <th>std</th>\n",
              "      <td>0.78</td>\n",
              "    </tr>\n",
              "    <tr>\n",
              "      <th>min</th>\n",
              "      <td>1.00</td>\n",
              "    </tr>\n",
              "    <tr>\n",
              "      <th>25%</th>\n",
              "      <td>2.00</td>\n",
              "    </tr>\n",
              "    <tr>\n",
              "      <th>50%</th>\n",
              "      <td>2.00</td>\n",
              "    </tr>\n",
              "    <tr>\n",
              "      <th>75%</th>\n",
              "      <td>3.00</td>\n",
              "    </tr>\n",
              "    <tr>\n",
              "      <th>max</th>\n",
              "      <td>4.00</td>\n",
              "    </tr>\n",
              "  </tbody>\n",
              "</table>\n",
              "</div>"
            ],
            "text/plain": [
              "      Bathrooms\n",
              "count  31178.00\n",
              "mean       2.47\n",
              "std        0.78\n",
              "min        1.00\n",
              "25%        2.00\n",
              "50%        2.00\n",
              "75%        3.00\n",
              "max        4.00"
            ]
          },
          "metadata": {},
          "execution_count": 52
        }
      ]
    },
    {
      "cell_type": "code",
      "metadata": {
        "id": "1410TXn7-3k2"
      },
      "source": [
        "bathrooms_mode = df_clean['Bathrooms'].mode()\n",
        "bathrooms_range = df_clean['Bathrooms'].max() - df_clean['Bathrooms'].min()\n",
        "bathrooms_var = df_clean['Bathrooms'].var()\n",
        "bathrooms_kurt = df_clean['Bathrooms'].kurt()\n",
        "bathrooms_skew = df_clean['Bathrooms'].skew()\n",
        "bathrooms_coef = df_clean['Bathrooms'].std() / df_clean['Bathrooms'].mean()"
      ],
      "execution_count": null,
      "outputs": []
    },
    {
      "cell_type": "code",
      "metadata": {
        "colab": {
          "base_uri": "https://localhost:8080/",
          "height": 292
        },
        "id": "hYbBASpY_F2t",
        "outputId": "5266e303-f630-4e21-f07b-3d936632b8b4"
      },
      "source": [
        "desc_stats_array_bathrooms = np.array([bathrooms_mode,bathrooms_range,bathrooms_var,bathrooms_kurt,bathrooms_skew,bathrooms_coef])\n",
        "desc_stats_series_bathrooms = pd.Series(desc_stats_array_bathrooms, index = ['mode','range','var','kurt','skew','Coeff'])\n",
        "desc_stats_bathrooms = pd.DataFrame(desc_stats_series_bathrooms)\n",
        "desc_stats_bathrooms.rename(columns={0: 'Bathrooms'}, inplace=True)\n",
        "desc_stats_bathrooms"
      ],
      "execution_count": null,
      "outputs": [
        {
          "output_type": "stream",
          "name": "stderr",
          "text": [
            "/usr/local/lib/python3.7/dist-packages/ipykernel_launcher.py:1: VisibleDeprecationWarning: Creating an ndarray from ragged nested sequences (which is a list-or-tuple of lists-or-tuples-or ndarrays with different lengths or shapes) is deprecated. If you meant to do this, you must specify 'dtype=object' when creating the ndarray\n",
            "  \"\"\"Entry point for launching an IPython kernel.\n"
          ]
        },
        {
          "output_type": "execute_result",
          "data": {
            "text/html": [
              "<div>\n",
              "<style scoped>\n",
              "    .dataframe tbody tr th:only-of-type {\n",
              "        vertical-align: middle;\n",
              "    }\n",
              "\n",
              "    .dataframe tbody tr th {\n",
              "        vertical-align: top;\n",
              "    }\n",
              "\n",
              "    .dataframe thead th {\n",
              "        text-align: right;\n",
              "    }\n",
              "</style>\n",
              "<table border=\"1\" class=\"dataframe\">\n",
              "  <thead>\n",
              "    <tr style=\"text-align: right;\">\n",
              "      <th></th>\n",
              "      <th>Bathrooms</th>\n",
              "    </tr>\n",
              "  </thead>\n",
              "  <tbody>\n",
              "    <tr>\n",
              "      <th>mode</th>\n",
              "      <td>0    2\n",
              "dtype: int64</td>\n",
              "    </tr>\n",
              "    <tr>\n",
              "      <th>range</th>\n",
              "      <td>3</td>\n",
              "    </tr>\n",
              "    <tr>\n",
              "      <th>var</th>\n",
              "      <td>0.615891</td>\n",
              "    </tr>\n",
              "    <tr>\n",
              "      <th>kurt</th>\n",
              "      <td>-0.328896</td>\n",
              "    </tr>\n",
              "    <tr>\n",
              "      <th>skew</th>\n",
              "      <td>0.651145</td>\n",
              "    </tr>\n",
              "    <tr>\n",
              "      <th>Coeff</th>\n",
              "      <td>0.317644</td>\n",
              "    </tr>\n",
              "  </tbody>\n",
              "</table>\n",
              "</div>"
            ],
            "text/plain": [
              "                 Bathrooms\n",
              "mode   0    2\n",
              "dtype: int64\n",
              "range                    3\n",
              "var               0.615891\n",
              "kurt             -0.328896\n",
              "skew              0.651145\n",
              "Coeff             0.317644"
            ]
          },
          "metadata": {},
          "execution_count": 54
        }
      ]
    },
    {
      "cell_type": "code",
      "metadata": {
        "colab": {
          "base_uri": "https://localhost:8080/",
          "height": 300
        },
        "id": "ugj326_HWDpi",
        "outputId": "f580f275-1066-4168-a9df-a6cd8f41c379"
      },
      "source": [
        "# EDA Car Parks\n",
        "desc = df_clean['Car Parks'].describe().map('{:.2f}'.format)\n",
        "desc = pd.DataFrame(desc)\n",
        "desc"
      ],
      "execution_count": null,
      "outputs": [
        {
          "output_type": "execute_result",
          "data": {
            "text/html": [
              "<div>\n",
              "<style scoped>\n",
              "    .dataframe tbody tr th:only-of-type {\n",
              "        vertical-align: middle;\n",
              "    }\n",
              "\n",
              "    .dataframe tbody tr th {\n",
              "        vertical-align: top;\n",
              "    }\n",
              "\n",
              "    .dataframe thead th {\n",
              "        text-align: right;\n",
              "    }\n",
              "</style>\n",
              "<table border=\"1\" class=\"dataframe\">\n",
              "  <thead>\n",
              "    <tr style=\"text-align: right;\">\n",
              "      <th></th>\n",
              "      <th>Car Parks</th>\n",
              "    </tr>\n",
              "  </thead>\n",
              "  <tbody>\n",
              "    <tr>\n",
              "      <th>count</th>\n",
              "      <td>31178.00</td>\n",
              "    </tr>\n",
              "    <tr>\n",
              "      <th>mean</th>\n",
              "      <td>1.27</td>\n",
              "    </tr>\n",
              "    <tr>\n",
              "      <th>std</th>\n",
              "      <td>0.94</td>\n",
              "    </tr>\n",
              "    <tr>\n",
              "      <th>min</th>\n",
              "      <td>0.00</td>\n",
              "    </tr>\n",
              "    <tr>\n",
              "      <th>25%</th>\n",
              "      <td>1.00</td>\n",
              "    </tr>\n",
              "    <tr>\n",
              "      <th>50%</th>\n",
              "      <td>1.00</td>\n",
              "    </tr>\n",
              "    <tr>\n",
              "      <th>75%</th>\n",
              "      <td>2.00</td>\n",
              "    </tr>\n",
              "    <tr>\n",
              "      <th>max</th>\n",
              "      <td>5.00</td>\n",
              "    </tr>\n",
              "  </tbody>\n",
              "</table>\n",
              "</div>"
            ],
            "text/plain": [
              "      Car Parks\n",
              "count  31178.00\n",
              "mean       1.27\n",
              "std        0.94\n",
              "min        0.00\n",
              "25%        1.00\n",
              "50%        1.00\n",
              "75%        2.00\n",
              "max        5.00"
            ]
          },
          "metadata": {},
          "execution_count": 55
        }
      ]
    },
    {
      "cell_type": "code",
      "metadata": {
        "id": "29y0KMxV_IaR"
      },
      "source": [
        "car_parks_mode = df_clean['Car Parks'].mode()\n",
        "car_parks_range = df_clean['Car Parks'].max() - df_clean['Car Parks'].min()\n",
        "car_parks_var = df_clean['Car Parks'].var()\n",
        "car_parks_kurt = df_clean['Car Parks'].kurt()\n",
        "car_parks_skew = df_clean['Car Parks'].skew()\n",
        "car_parks_coef = df_clean['Car Parks'].std() / df_clean['Car Parks'].mean()"
      ],
      "execution_count": null,
      "outputs": []
    },
    {
      "cell_type": "code",
      "metadata": {
        "colab": {
          "base_uri": "https://localhost:8080/",
          "height": 292
        },
        "id": "iDcFrkda_V_Q",
        "outputId": "619ac963-2dd3-4fd8-f667-7de0fc219f04"
      },
      "source": [
        "desc_stats_array_car_parks = np.array([car_parks_mode,car_parks_range,car_parks_var,car_parks_kurt,car_parks_skew,car_parks_coef])\n",
        "desc_stats_series_car_parks = pd.Series(desc_stats_array_car_parks, index = ['mode','range','var','kurt','skew','Coeff'])\n",
        "desc_stats_car_parks = pd.DataFrame(desc_stats_series_car_parks)\n",
        "desc_stats_car_parks.rename(columns={0: 'Car Parks'}, inplace=True)\n",
        "desc_stats_car_parks"
      ],
      "execution_count": null,
      "outputs": [
        {
          "output_type": "stream",
          "name": "stderr",
          "text": [
            "/usr/local/lib/python3.7/dist-packages/ipykernel_launcher.py:1: VisibleDeprecationWarning: Creating an ndarray from ragged nested sequences (which is a list-or-tuple of lists-or-tuples-or ndarrays with different lengths or shapes) is deprecated. If you meant to do this, you must specify 'dtype=object' when creating the ndarray\n",
            "  \"\"\"Entry point for launching an IPython kernel.\n"
          ]
        },
        {
          "output_type": "execute_result",
          "data": {
            "text/html": [
              "<div>\n",
              "<style scoped>\n",
              "    .dataframe tbody tr th:only-of-type {\n",
              "        vertical-align: middle;\n",
              "    }\n",
              "\n",
              "    .dataframe tbody tr th {\n",
              "        vertical-align: top;\n",
              "    }\n",
              "\n",
              "    .dataframe thead th {\n",
              "        text-align: right;\n",
              "    }\n",
              "</style>\n",
              "<table border=\"1\" class=\"dataframe\">\n",
              "  <thead>\n",
              "    <tr style=\"text-align: right;\">\n",
              "      <th></th>\n",
              "      <th>Car Parks</th>\n",
              "    </tr>\n",
              "  </thead>\n",
              "  <tbody>\n",
              "    <tr>\n",
              "      <th>mode</th>\n",
              "      <td>0    2\n",
              "dtype: int64</td>\n",
              "    </tr>\n",
              "    <tr>\n",
              "      <th>range</th>\n",
              "      <td>5</td>\n",
              "    </tr>\n",
              "    <tr>\n",
              "      <th>var</th>\n",
              "      <td>0.878482</td>\n",
              "    </tr>\n",
              "    <tr>\n",
              "      <th>kurt</th>\n",
              "      <td>-0.0542048</td>\n",
              "    </tr>\n",
              "    <tr>\n",
              "      <th>skew</th>\n",
              "      <td>0.319876</td>\n",
              "    </tr>\n",
              "    <tr>\n",
              "      <th>Coeff</th>\n",
              "      <td>0.739656</td>\n",
              "    </tr>\n",
              "  </tbody>\n",
              "</table>\n",
              "</div>"
            ],
            "text/plain": [
              "                 Car Parks\n",
              "mode   0    2\n",
              "dtype: int64\n",
              "range                    5\n",
              "var               0.878482\n",
              "kurt            -0.0542048\n",
              "skew              0.319876\n",
              "Coeff             0.739656"
            ]
          },
          "metadata": {},
          "execution_count": 57
        }
      ]
    },
    {
      "cell_type": "markdown",
      "metadata": {
        "id": "9hqxavARa9ED"
      },
      "source": [
        ""
      ]
    },
    {
      "cell_type": "markdown",
      "metadata": {
        "id": "N_1miLmyXQl6"
      },
      "source": [
        "\n",
        "\n",
        "```\n",
        "\n",
        "```\n",
        "\n",
        "# EDA Based on several Parameters"
      ]
    },
    {
      "cell_type": "code",
      "metadata": {
        "colab": {
          "base_uri": "https://localhost:8080/",
          "height": 750
        },
        "id": "OidW4u-A_rf6",
        "outputId": "221a26ff-6b87-4293-ef5b-c40627d16e42"
      },
      "source": [
        "# Total Price per Locations\n",
        "all_property_prices = df.groupby('Location')['Price_non_RM'].mean().sort_values(ascending=False)\n",
        "\n",
        "ax = all_property_prices.plot(kind='bar', title=\"Property Price Distribution in Kuala Lumpur\", figsize=(15,10), legend=True, fontsize=10, rot=90)\n",
        "ax.set_xlabel(\"Locations\", fontsize=10)\n",
        "ax.set_ylabel(\"Price_non_RM\", fontsize=10)\n",
        "plt.show()"
      ],
      "execution_count": null,
      "outputs": [
        {
          "output_type": "display_data",
          "data": {
            "image/png": "[encoded data removed]",
            "text/plain": [
              "<Figure size 1080x720 with 1 Axes>"
            ]
          },
          "metadata": {
            "needs_background": "light"
          }
        }
      ]
    },
    {
      "cell_type": "code",
      "metadata": {
        "colab": {
          "base_uri": "https://localhost:8080/",
          "height": 737
        },
        "id": "dyHEN_ehJlAT",
        "outputId": "d44ab76a-75e2-4700-b568-eff6b8a9e95e"
      },
      "source": [
        "# Room Size per Locations\n",
        "all_property_prices = df.groupby('Location')['Size'].mean().sort_values(ascending=False)\n",
        "\n",
        "ax = all_property_prices.plot(kind='bar', title=\"Size per Location\", figsize=(15,10), legend=True, fontsize=10, rot=90)\n",
        "ax.set_xlabel(\"Locations\", fontsize=10)\n",
        "ax.set_ylabel(\"Size\", fontsize=10)\n",
        "plt.show()"
      ],
      "execution_count": null,
      "outputs": [
        {
          "output_type": "display_data",
          "data": {
            "image/png": "[encoded data removed]",
            "text/plain": [
              "<Figure size 1080x720 with 1 Axes>"
            ]
          },
          "metadata": {
            "needs_background": "light"
          }
        }
      ]
    },
    {
      "cell_type": "markdown",
      "metadata": {
        "id": "ebcrSeuNTPwG"
      },
      "source": [
        "# Cluster Analysis"
      ]
    },
    {
      "cell_type": "code",
      "metadata": {
        "id": "_7lsdGuvpATL"
      },
      "source": [
        "from sklearn import cluster\n",
        "from silhoutte import silhoutte_analysis"
      ],
      "execution_count": null,
      "outputs": []
    },
    {
      "cell_type": "code",
      "metadata": {
        "colab": {
          "base_uri": "https://localhost:8080/",
          "height": 365
        },
        "id": "8Tt_vOWaTi1X",
        "outputId": "4c1119f6-2116-48fc-dc3c-95d2532225ef"
      },
      "source": [
        "df_clean.head()"
      ],
      "execution_count": null,
      "outputs": [
        {
          "output_type": "execute_result",
          "data": {
            "text/html": [
              "<div>\n",
              "<style scoped>\n",
              "    .dataframe tbody tr th:only-of-type {\n",
              "        vertical-align: middle;\n",
              "    }\n",
              "\n",
              "    .dataframe tbody tr th {\n",
              "        vertical-align: top;\n",
              "    }\n",
              "\n",
              "    .dataframe thead th {\n",
              "        text-align: right;\n",
              "    }\n",
              "</style>\n",
              "<table border=\"1\" class=\"dataframe\">\n",
              "  <thead>\n",
              "    <tr style=\"text-align: right;\">\n",
              "      <th></th>\n",
              "      <th>Location</th>\n",
              "      <th>Price</th>\n",
              "      <th>Rooms</th>\n",
              "      <th>Bathrooms</th>\n",
              "      <th>Car Parks</th>\n",
              "      <th>Property Type</th>\n",
              "      <th>Size_Type</th>\n",
              "      <th>Size</th>\n",
              "      <th>Furnishing</th>\n",
              "      <th>Rooms_Num</th>\n",
              "      <th>Price_non_RM</th>\n",
              "    </tr>\n",
              "  </thead>\n",
              "  <tbody>\n",
              "    <tr>\n",
              "      <th>0</th>\n",
              "      <td>klcc</td>\n",
              "      <td>RM 1,250,000</td>\n",
              "      <td>2+1</td>\n",
              "      <td>3</td>\n",
              "      <td>2</td>\n",
              "      <td>Serviced Residence</td>\n",
              "      <td>Built-up</td>\n",
              "      <td>1335.0</td>\n",
              "      <td>Fully Furnished</td>\n",
              "      <td>3</td>\n",
              "      <td>1250000</td>\n",
              "    </tr>\n",
              "    <tr>\n",
              "      <th>2</th>\n",
              "      <td>dutamas</td>\n",
              "      <td>RM 1,030,000</td>\n",
              "      <td>3</td>\n",
              "      <td>4</td>\n",
              "      <td>2</td>\n",
              "      <td>Condominium (Corner)</td>\n",
              "      <td>Built-up</td>\n",
              "      <td>1875.0</td>\n",
              "      <td>Partly Furnished</td>\n",
              "      <td>3</td>\n",
              "      <td>1030000</td>\n",
              "    </tr>\n",
              "    <tr>\n",
              "      <th>4</th>\n",
              "      <td>bukit jalil</td>\n",
              "      <td>RM 900,000</td>\n",
              "      <td>4+1</td>\n",
              "      <td>3</td>\n",
              "      <td>2</td>\n",
              "      <td>Condominium (Corner)</td>\n",
              "      <td>Built-up</td>\n",
              "      <td>1513.0</td>\n",
              "      <td>Partly Furnished</td>\n",
              "      <td>5</td>\n",
              "      <td>900000</td>\n",
              "    </tr>\n",
              "    <tr>\n",
              "      <th>8</th>\n",
              "      <td>taman tun dr ismail</td>\n",
              "      <td>RM 1,950,000</td>\n",
              "      <td>4+1</td>\n",
              "      <td>4</td>\n",
              "      <td>3</td>\n",
              "      <td>2-sty Terrace/Link House (EndLot)</td>\n",
              "      <td>Land area</td>\n",
              "      <td>1875.0</td>\n",
              "      <td>Partly Furnished</td>\n",
              "      <td>5</td>\n",
              "      <td>1950000</td>\n",
              "    </tr>\n",
              "    <tr>\n",
              "      <th>9</th>\n",
              "      <td>sri petaling</td>\n",
              "      <td>RM 385,000</td>\n",
              "      <td>3</td>\n",
              "      <td>2</td>\n",
              "      <td>1</td>\n",
              "      <td>Apartment (Intermediate)</td>\n",
              "      <td>Built-up</td>\n",
              "      <td>904.0</td>\n",
              "      <td>Partly Furnished</td>\n",
              "      <td>3</td>\n",
              "      <td>385000</td>\n",
              "    </tr>\n",
              "  </tbody>\n",
              "</table>\n",
              "</div>"
            ],
            "text/plain": [
              "              Location         Price  ... Rooms_Num  Price_non_RM\n",
              "0                 klcc  RM 1,250,000  ...         3       1250000\n",
              "2              dutamas  RM 1,030,000  ...         3       1030000\n",
              "4          bukit jalil    RM 900,000  ...         5        900000\n",
              "8  taman tun dr ismail  RM 1,950,000  ...         5       1950000\n",
              "9         sri petaling    RM 385,000  ...         3        385000\n",
              "\n",
              "[5 rows x 11 columns]"
            ]
          },
          "metadata": {},
          "execution_count": 63
        }
      ]
    },
    {
      "cell_type": "code",
      "metadata": {
        "colab": {
          "base_uri": "https://localhost:8080/",
          "height": 424
        },
        "id": "wQlrMuyIlNiK",
        "outputId": "193f947e-7e47-486d-85f2-af6e8fb8fcee"
      },
      "source": [
        "df_cluster= df_clean[['Bathrooms','Car Parks','Size','Price_non_RM','Rooms_Num']]\n",
        "df_cluster"
      ],
      "execution_count": null,
      "outputs": [
        {
          "output_type": "execute_result",
          "data": {
            "text/html": [
              "<div>\n",
              "<style scoped>\n",
              "    .dataframe tbody tr th:only-of-type {\n",
              "        vertical-align: middle;\n",
              "    }\n",
              "\n",
              "    .dataframe tbody tr th {\n",
              "        vertical-align: top;\n",
              "    }\n",
              "\n",
              "    .dataframe thead th {\n",
              "        text-align: right;\n",
              "    }\n",
              "</style>\n",
              "<table border=\"1\" class=\"dataframe\">\n",
              "  <thead>\n",
              "    <tr style=\"text-align: right;\">\n",
              "      <th></th>\n",
              "      <th>Bathrooms</th>\n",
              "      <th>Car Parks</th>\n",
              "      <th>Size</th>\n",
              "      <th>Price_non_RM</th>\n",
              "      <th>Rooms_Num</th>\n",
              "    </tr>\n",
              "  </thead>\n",
              "  <tbody>\n",
              "    <tr>\n",
              "      <th>0</th>\n",
              "      <td>3</td>\n",
              "      <td>2</td>\n",
              "      <td>1335.0</td>\n",
              "      <td>1250000</td>\n",
              "      <td>3</td>\n",
              "    </tr>\n",
              "    <tr>\n",
              "      <th>2</th>\n",
              "      <td>4</td>\n",
              "      <td>2</td>\n",
              "      <td>1875.0</td>\n",
              "      <td>1030000</td>\n",
              "      <td>3</td>\n",
              "    </tr>\n",
              "    <tr>\n",
              "      <th>4</th>\n",
              "      <td>3</td>\n",
              "      <td>2</td>\n",
              "      <td>1513.0</td>\n",
              "      <td>900000</td>\n",
              "      <td>5</td>\n",
              "    </tr>\n",
              "    <tr>\n",
              "      <th>8</th>\n",
              "      <td>4</td>\n",
              "      <td>3</td>\n",
              "      <td>1875.0</td>\n",
              "      <td>1950000</td>\n",
              "      <td>5</td>\n",
              "    </tr>\n",
              "    <tr>\n",
              "      <th>9</th>\n",
              "      <td>2</td>\n",
              "      <td>1</td>\n",
              "      <td>904.0</td>\n",
              "      <td>385000</td>\n",
              "      <td>3</td>\n",
              "    </tr>\n",
              "    <tr>\n",
              "      <th>...</th>\n",
              "      <td>...</td>\n",
              "      <td>...</td>\n",
              "      <td>...</td>\n",
              "      <td>...</td>\n",
              "      <td>...</td>\n",
              "    </tr>\n",
              "    <tr>\n",
              "      <th>53873</th>\n",
              "      <td>2</td>\n",
              "      <td>0</td>\n",
              "      <td>1430.0</td>\n",
              "      <td>499000</td>\n",
              "      <td>3</td>\n",
              "    </tr>\n",
              "    <tr>\n",
              "      <th>53874</th>\n",
              "      <td>2</td>\n",
              "      <td>0</td>\n",
              "      <td>1092.0</td>\n",
              "      <td>480000</td>\n",
              "      <td>3</td>\n",
              "    </tr>\n",
              "    <tr>\n",
              "      <th>53875</th>\n",
              "      <td>2</td>\n",
              "      <td>0</td>\n",
              "      <td>852.0</td>\n",
              "      <td>475000</td>\n",
              "      <td>3</td>\n",
              "    </tr>\n",
              "    <tr>\n",
              "      <th>53881</th>\n",
              "      <td>2</td>\n",
              "      <td>0</td>\n",
              "      <td>1150.0</td>\n",
              "      <td>480000</td>\n",
              "      <td>3</td>\n",
              "    </tr>\n",
              "    <tr>\n",
              "      <th>53882</th>\n",
              "      <td>2</td>\n",
              "      <td>3</td>\n",
              "      <td>1313.0</td>\n",
              "      <td>540000</td>\n",
              "      <td>4</td>\n",
              "    </tr>\n",
              "  </tbody>\n",
              "</table>\n",
              "<p>31178 rows × 5 columns</p>\n",
              "</div>"
            ],
            "text/plain": [
              "       Bathrooms  Car Parks    Size  Price_non_RM  Rooms_Num\n",
              "0              3          2  1335.0       1250000          3\n",
              "2              4          2  1875.0       1030000          3\n",
              "4              3          2  1513.0        900000          5\n",
              "8              4          3  1875.0       1950000          5\n",
              "9              2          1   904.0        385000          3\n",
              "...          ...        ...     ...           ...        ...\n",
              "53873          2          0  1430.0        499000          3\n",
              "53874          2          0  1092.0        480000          3\n",
              "53875          2          0   852.0        475000          3\n",
              "53881          2          0  1150.0        480000          3\n",
              "53882          2          3  1313.0        540000          4\n",
              "\n",
              "[31178 rows x 5 columns]"
            ]
          },
          "metadata": {},
          "execution_count": 64
        }
      ]
    },
    {
      "cell_type": "code",
      "metadata": {
        "colab": {
          "base_uri": "https://localhost:8080/",
          "height": 312
        },
        "id": "L5lDFAoIow9n",
        "outputId": "071c8c7b-7afd-4b6b-9b44-8e79f941a0ed"
      },
      "source": [
        "import matplotlib.pyplot as plt\n",
        "distortions = []\n",
        "K = range(1,8)\n",
        "for k in K:\n",
        "    kmeanModel = cluster.KMeans(n_clusters=k)\n",
        "    kmeanModel.fit(df_cluster)\n",
        "    distortions.append(kmeanModel.inertia_)\n",
        "\n",
        "plt.figure(figsize=(16,8))\n",
        "plt.figure()\n",
        "plt.plot(K, distortions, 'bx-')\n",
        "plt.xlabel('k')\n",
        "plt.ylabel('Inertia')\n",
        "plt.title('The Elbow Method showing the optimal k')\n",
        "plt.show()"
      ],
      "execution_count": null,
      "outputs": [
        {
          "output_type": "display_data",
          "data": {
            "text/plain": [
              "<Figure size 1152x576 with 0 Axes>"
            ]
          },
          "metadata": {}
        },
        {
          "output_type": "display_data",
          "data": {
            "image/png": "[encoded data removed]",
            "text/plain": [
              "<Figure size 432x288 with 1 Axes>"
            ]
          },
          "metadata": {
            "needs_background": "light"
          }
        }
      ]
    },
    {
      "cell_type": "code",
      "metadata": {
        "colab": {
          "base_uri": "https://localhost:8080/",
          "height": 1000
        },
        "id": "MVmQdWD6paRH",
        "outputId": "499d0ea0-ba55-4e74-9221-b37a692a589e"
      },
      "source": [
        "silhoutte_analysis(df_cluster,[2, 3, 4,5])"
      ],
      "execution_count": null,
      "outputs": [
        {
          "output_type": "stream",
          "name": "stdout",
          "text": [
            "For n_clusters = 2 The average silhouette_score is : 0.6534410744568815\n",
            "For n_clusters = 3 The average silhouette_score is : 0.6144530637615727\n",
            "For n_clusters = 4 The average silhouette_score is : 0.5710010778780559\n",
            "For n_clusters = 5 The average silhouette_score is : 0.5417255160341011\n"
          ]
        },
        {
          "output_type": "display_data",
          "data": {
            "image/png": "[encoded data removed]",
            "text/plain": [
              "<Figure size 1296x504 with 2 Axes>"
            ]
          },
          "metadata": {
            "needs_background": "light"
          }
        },
        {
          "output_type": "display_data",
          "data": {
            "image/png": "[encoded data removed]",
            "text/plain": [
              "<Figure size 1296x504 with 2 Axes>"
            ]
          },
          "metadata": {
            "needs_background": "light"
          }
        },
        {
          "output_type": "display_data",
          "data": {
            "image/png": "[encoded data removed]",
            "text/plain": [
              "<Figure size 1296x504 with 2 Axes>"
            ]
          },
          "metadata": {
            "needs_background": "light"
          }
        },
        {
          "output_type": "display_data",
          "data": {
            "image/png": "[encoded data removed]",
            "text/plain": [
              "<Figure size 1296x504 with 2 Axes>"
            ]
          },
          "metadata": {
            "needs_background": "light"
          }
        }
      ]
    },
    {
      "cell_type": "code",
      "metadata": {
        "colab": {
          "base_uri": "https://localhost:8080/"
        },
        "id": "bu_GQ2xbrGDX",
        "outputId": "f98e8aee-cac9-4205-ec25-9dd15fde4755"
      },
      "source": [
        "cluster_model = cluster.KMeans(n_clusters=3)\n",
        "cluster_array = cluster_model.fit(df_cluster)\n",
        "cluster_label = cluster_model.labels_\n",
        "df_clean['cluster'] = cluster_label"
      ],
      "execution_count": null,
      "outputs": [
        {
          "output_type": "stream",
          "name": "stderr",
          "text": [
            "/usr/local/lib/python3.7/dist-packages/ipykernel_launcher.py:4: SettingWithCopyWarning: \n",
            "A value is trying to be set on a copy of a slice from a DataFrame.\n",
            "Try using .loc[row_indexer,col_indexer] = value instead\n",
            "\n",
            "See the caveats in the documentation: https://pandas.pydata.org/pandas-docs/stable/user_guide/indexing.html#returning-a-view-versus-a-copy\n",
            "  after removing the cwd from sys.path.\n"
          ]
        }
      ]
    },
    {
      "cell_type": "code",
      "metadata": {
        "colab": {
          "base_uri": "https://localhost:8080/",
          "height": 261
        },
        "id": "1bmQhjRBri7F",
        "outputId": "bc8cd539-372b-4ea1-b464-88131eeaaa3e"
      },
      "source": [
        "df_clean.groupby('cluster')['Bathrooms','Car Parks','Size','Price_non_RM','Rooms_Num'].agg(['count','mean','median','max','min'])"
      ],
      "execution_count": null,
      "outputs": [
        {
          "output_type": "stream",
          "name": "stderr",
          "text": [
            "/usr/local/lib/python3.7/dist-packages/ipykernel_launcher.py:1: FutureWarning: Indexing with multiple keys (implicitly converted to a tuple of keys) will be deprecated, use a list instead.\n",
            "  \"\"\"Entry point for launching an IPython kernel.\n"
          ]
        },
        {
          "output_type": "execute_result",
          "data": {
            "text/html": [
              "<div>\n",
              "<style scoped>\n",
              "    .dataframe tbody tr th:only-of-type {\n",
              "        vertical-align: middle;\n",
              "    }\n",
              "\n",
              "    .dataframe tbody tr th {\n",
              "        vertical-align: top;\n",
              "    }\n",
              "\n",
              "    .dataframe thead tr th {\n",
              "        text-align: left;\n",
              "    }\n",
              "\n",
              "    .dataframe thead tr:last-of-type th {\n",
              "        text-align: right;\n",
              "    }\n",
              "</style>\n",
              "<table border=\"1\" class=\"dataframe\">\n",
              "  <thead>\n",
              "    <tr>\n",
              "      <th></th>\n",
              "      <th colspan=\"5\" halign=\"left\">Bathrooms</th>\n",
              "      <th colspan=\"5\" halign=\"left\">Car Parks</th>\n",
              "      <th colspan=\"5\" halign=\"left\">Size</th>\n",
              "      <th colspan=\"5\" halign=\"left\">Price_non_RM</th>\n",
              "      <th colspan=\"5\" halign=\"left\">Rooms_Num</th>\n",
              "    </tr>\n",
              "    <tr>\n",
              "      <th></th>\n",
              "      <th>count</th>\n",
              "      <th>mean</th>\n",
              "      <th>median</th>\n",
              "      <th>max</th>\n",
              "      <th>min</th>\n",
              "      <th>count</th>\n",
              "      <th>mean</th>\n",
              "      <th>median</th>\n",
              "      <th>max</th>\n",
              "      <th>min</th>\n",
              "      <th>count</th>\n",
              "      <th>mean</th>\n",
              "      <th>median</th>\n",
              "      <th>max</th>\n",
              "      <th>min</th>\n",
              "      <th>count</th>\n",
              "      <th>mean</th>\n",
              "      <th>median</th>\n",
              "      <th>max</th>\n",
              "      <th>min</th>\n",
              "      <th>count</th>\n",
              "      <th>mean</th>\n",
              "      <th>median</th>\n",
              "      <th>max</th>\n",
              "      <th>min</th>\n",
              "    </tr>\n",
              "    <tr>\n",
              "      <th>cluster</th>\n",
              "      <th></th>\n",
              "      <th></th>\n",
              "      <th></th>\n",
              "      <th></th>\n",
              "      <th></th>\n",
              "      <th></th>\n",
              "      <th></th>\n",
              "      <th></th>\n",
              "      <th></th>\n",
              "      <th></th>\n",
              "      <th></th>\n",
              "      <th></th>\n",
              "      <th></th>\n",
              "      <th></th>\n",
              "      <th></th>\n",
              "      <th></th>\n",
              "      <th></th>\n",
              "      <th></th>\n",
              "      <th></th>\n",
              "      <th></th>\n",
              "      <th></th>\n",
              "      <th></th>\n",
              "      <th></th>\n",
              "      <th></th>\n",
              "      <th></th>\n",
              "    </tr>\n",
              "  </thead>\n",
              "  <tbody>\n",
              "    <tr>\n",
              "      <th>0</th>\n",
              "      <td>8923</td>\n",
              "      <td>2.864956</td>\n",
              "      <td>3</td>\n",
              "      <td>4</td>\n",
              "      <td>1</td>\n",
              "      <td>8923</td>\n",
              "      <td>1.332960</td>\n",
              "      <td>1</td>\n",
              "      <td>5</td>\n",
              "      <td>0</td>\n",
              "      <td>8923</td>\n",
              "      <td>1625.337779</td>\n",
              "      <td>1600.0</td>\n",
              "      <td>3200.0</td>\n",
              "      <td>0.0</td>\n",
              "      <td>8923</td>\n",
              "      <td>1.332956e+06</td>\n",
              "      <td>1300000</td>\n",
              "      <td>1863744</td>\n",
              "      <td>960000</td>\n",
              "      <td>8923</td>\n",
              "      <td>3.463409</td>\n",
              "      <td>4</td>\n",
              "      <td>5</td>\n",
              "      <td>2</td>\n",
              "    </tr>\n",
              "    <tr>\n",
              "      <th>1</th>\n",
              "      <td>19555</td>\n",
              "      <td>2.196216</td>\n",
              "      <td>2</td>\n",
              "      <td>4</td>\n",
              "      <td>1</td>\n",
              "      <td>19555</td>\n",
              "      <td>1.219484</td>\n",
              "      <td>1</td>\n",
              "      <td>5</td>\n",
              "      <td>0</td>\n",
              "      <td>19555</td>\n",
              "      <td>1157.789344</td>\n",
              "      <td>1100.0</td>\n",
              "      <td>3200.0</td>\n",
              "      <td>0.0</td>\n",
              "      <td>19555</td>\n",
              "      <td>5.861732e+05</td>\n",
              "      <td>585000</td>\n",
              "      <td>959000</td>\n",
              "      <td>308</td>\n",
              "      <td>19555</td>\n",
              "      <td>3.142930</td>\n",
              "      <td>3</td>\n",
              "      <td>5</td>\n",
              "      <td>2</td>\n",
              "    </tr>\n",
              "    <tr>\n",
              "      <th>2</th>\n",
              "      <td>2700</td>\n",
              "      <td>3.155185</td>\n",
              "      <td>3</td>\n",
              "      <td>4</td>\n",
              "      <td>1</td>\n",
              "      <td>2700</td>\n",
              "      <td>1.395185</td>\n",
              "      <td>2</td>\n",
              "      <td>5</td>\n",
              "      <td>0</td>\n",
              "      <td>2700</td>\n",
              "      <td>1966.872593</td>\n",
              "      <td>1870.0</td>\n",
              "      <td>3210.0</td>\n",
              "      <td>0.0</td>\n",
              "      <td>2700</td>\n",
              "      <td>2.394677e+06</td>\n",
              "      <td>2250000</td>\n",
              "      <td>3930000</td>\n",
              "      <td>1865000</td>\n",
              "      <td>2700</td>\n",
              "      <td>3.573333</td>\n",
              "      <td>4</td>\n",
              "      <td>5</td>\n",
              "      <td>2</td>\n",
              "    </tr>\n",
              "  </tbody>\n",
              "</table>\n",
              "</div>"
            ],
            "text/plain": [
              "        Bathrooms                           ... Rooms_Num                         \n",
              "            count      mean median max min  ...     count      mean median max min\n",
              "cluster                                     ...                                   \n",
              "0            8923  2.864956      3   4   1  ...      8923  3.463409      4   5   2\n",
              "1           19555  2.196216      2   4   1  ...     19555  3.142930      3   5   2\n",
              "2            2700  3.155185      3   4   1  ...      2700  3.573333      4   5   2\n",
              "\n",
              "[3 rows x 25 columns]"
            ]
          },
          "metadata": {},
          "execution_count": 73
        }
      ]
    },
    {
      "cell_type": "markdown",
      "metadata": {
        "id": "2gM8tH-da_0e"
      },
      "source": [
        "# Summary : \n",
        "\n",
        "\n",
        "*   The distribution of data on each cluster is not really good (cluster 1 has a really big gap of amount comparing to others)\n",
        "*   Clustering Name :\n",
        "*   0 : Middle Property Price with Middle Room Number  \n",
        "*   1 : Low Property Price with Small Room Number\n",
        "*   2 : High Property Price with High Room Number\n",
        "\n",
        "\n"
      ]
    }
  ]
}